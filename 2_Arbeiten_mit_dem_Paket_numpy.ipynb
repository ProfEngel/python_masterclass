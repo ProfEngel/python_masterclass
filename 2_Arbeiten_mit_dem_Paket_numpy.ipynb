{
  "nbformat": 4,
  "nbformat_minor": 5,
  "metadata": {
    "kernelspec": {
      "display_name": "Python 3",
      "language": "python",
      "name": "python3"
    },
    "language_info": {
      "codemirror_mode": {
        "name": "ipython",
        "version": 3
      },
      "file_extension": ".py",
      "mimetype": "text/x-python",
      "name": "python",
      "nbconvert_exporter": "python",
      "pygments_lexer": "ipython3",
      "version": "3.8.8"
    },
    "colab": {
      "provenance": []
    }
  },
  "cells": [
    {
      "cell_type": "markdown",
      "metadata": {
        "id": "59a335ff"
      },
      "source": [
        "# numpy - numerische Berechnungen mit Python\n",
        "Die Bibliothek numpy erweitert der Funktionsumfang von Python um numerische Berechnungen. Diverse Berechnungen sind zwar bereits auch mit der Grundversion in Python möglich. Jedoch sobald komplexere Aufgaben anstehen, ist man mit dem erheblichen Funktionsumfang in numpy (Listen, Matrizen, Berechnungsfunktionen wie Wurzel ziehen, Logarithmusfunktionen und/oder Matrixfunktionen, etc.) besser und schneller aufgestellt."
      ],
      "id": "59a335ff"
    },
    {
      "cell_type": "code",
      "metadata": {
        "id": "40cbb30c",
        "outputId": "7211db47-e389-4311-d67f-0bc34896bce8"
      },
      "source": [
        "#numpy ist eine Standard-Erweiterung und muss zuvor installiert und gezielt importiert werden. Dafür unter pypi.org das entsprechende Projekt suchen und den den pip install befehl im CMD-Fenster ausführen. In einem Jupyter Notebook muss vor dem pip ein ! stehen, sollte es per Jupyter Notebook installiert werden.\n",
        "!pip install numpy\n",
        "#Dieser Befehl muss nur einmal ausgeführt werden. Denn es ist eine Installation. Danach muss nur noch die Bibliothek importiert werden."
      ],
      "id": "40cbb30c",
      "execution_count": null,
      "outputs": [
        {
          "output_type": "stream",
          "text": [
            "Requirement already satisfied: numpy in c:\\orange3\\lib\\site-packages (1.19.5)\n"
          ],
          "name": "stdout"
        }
      ]
    },
    {
      "cell_type": "code",
      "metadata": {
        "id": "dccf6679",
        "outputId": "7ccd9db1-b299-46a5-9026-12cbc57fc333"
      },
      "source": [
        "#numpy Bibliothek importieren.\n",
        "import numpy as np\n",
        "#numpy wird vollständig importiert und unter dem Kürzel np abufbar gemacht. np tritt daher stets dann auf, wenn auf eine Funktion von numpy zugegriffen wird.\n",
        "#alternativ kann auch nur eine Funktion aus der Bibliothek herangezogen werden.\n",
        "#Bsp.\n",
        "# from numpy import array\n",
        "nums = [1,2,3,4,5]\n",
        "print(type(nums))\n",
        "\n",
        "# Eindimensionales Array erstellen:\n",
        "b = np.array(nums)\n",
        "\n",
        "b\n",
        "print(type(b))"
      ],
      "id": "dccf6679",
      "execution_count": null,
      "outputs": [
        {
          "output_type": "stream",
          "text": [
            "<class 'list'>\n",
            "<class 'numpy.ndarray'>\n"
          ],
          "name": "stdout"
        }
      ]
    },
    {
      "cell_type": "markdown",
      "metadata": {
        "id": "ae84297a"
      },
      "source": [
        "## 2.1 numpy Arrays\n",
        "Ein numpy Array ist im weitesten Sinne eine Liste. Alle Elemente in einem numpy-array sind jedoch vom gleichen Typ und es werden auch keine leeren Objekte gestattet."
      ],
      "id": "ae84297a"
    },
    {
      "cell_type": "code",
      "metadata": {
        "id": "7369b58a",
        "outputId": "165bad5a-8ae2-4e5d-da1e-8ff0e016eb36"
      },
      "source": [
        "import numpy as np\n",
        "\n",
        "nums = [1,2,3,4,5]\n",
        "print(type(nums))\n",
        "\n",
        "# Eindimensionales Array erstellen:\n",
        "a = np.array(nums)\n",
        "\n",
        "a\n",
        "print(type(a))"
      ],
      "id": "7369b58a",
      "execution_count": null,
      "outputs": [
        {
          "output_type": "stream",
          "text": [
            "<class 'list'>\n",
            "<class 'numpy.ndarray'>\n"
          ],
          "name": "stdout"
        }
      ]
    },
    {
      "cell_type": "code",
      "metadata": {
        "id": "b2e91b2b",
        "outputId": "d3af1a77-c856-4d2b-8619-ac98a5e04ec2"
      },
      "source": [
        "# Zweidimensionale Matrix erstellen\n",
        "m1 = np.array([ [1,2,3], [4,5,6], [7,8,9] ])\n",
        "\n",
        "m1"
      ],
      "id": "b2e91b2b",
      "execution_count": null,
      "outputs": [
        {
          "output_type": "execute_result",
          "data": {
            "text/plain": [
              "array([[1, 2, 3],\n",
              "       [4, 5, 6],\n",
              "       [7, 8, 9]])"
            ]
          },
          "metadata": {
            "tags": []
          },
          "execution_count": 5
        }
      ]
    },
    {
      "cell_type": "code",
      "metadata": {
        "id": "4211d02e",
        "outputId": "a0c4966e-8070-44db-fc82-4f08fc916a97"
      },
      "source": [
        "# Zweidimensionale Matrix erstellen\n",
        "m2 = np.array([ [1,2,3], [a,b,c], [7,8,9] ])\n",
        "#Fehlermeldung, da diese Matrix nicht denselben Typ bei allen Elementen hat. Integer und Text-Werte gemischt\n",
        "m2"
      ],
      "id": "4211d02e",
      "execution_count": null,
      "outputs": [
        {
          "output_type": "error",
          "ename": "NameError",
          "evalue": "name 'b' is not defined",
          "traceback": [
            "\u001b[1;31m---------------------------------------------------------------------------\u001b[0m",
            "\u001b[1;31mNameError\u001b[0m                                 Traceback (most recent call last)",
            "\u001b[1;32m<ipython-input-6-7d3e4955272a>\u001b[0m in \u001b[0;36m<module>\u001b[1;34m\u001b[0m\n\u001b[0;32m      1\u001b[0m \u001b[1;31m# Zweidimensionale Matrix erstellen\u001b[0m\u001b[1;33m\u001b[0m\u001b[1;33m\u001b[0m\u001b[1;33m\u001b[0m\u001b[0m\n\u001b[1;32m----> 2\u001b[1;33m \u001b[0mm2\u001b[0m \u001b[1;33m=\u001b[0m \u001b[0mnp\u001b[0m\u001b[1;33m.\u001b[0m\u001b[0marray\u001b[0m\u001b[1;33m(\u001b[0m\u001b[1;33m[\u001b[0m \u001b[1;33m[\u001b[0m\u001b[1;36m1\u001b[0m\u001b[1;33m,\u001b[0m\u001b[1;36m2\u001b[0m\u001b[1;33m,\u001b[0m\u001b[1;36m3\u001b[0m\u001b[1;33m]\u001b[0m\u001b[1;33m,\u001b[0m \u001b[1;33m[\u001b[0m\u001b[0ma\u001b[0m\u001b[1;33m,\u001b[0m\u001b[0mb\u001b[0m\u001b[1;33m,\u001b[0m\u001b[0mc\u001b[0m\u001b[1;33m]\u001b[0m\u001b[1;33m,\u001b[0m \u001b[1;33m[\u001b[0m\u001b[1;36m7\u001b[0m\u001b[1;33m,\u001b[0m\u001b[1;36m8\u001b[0m\u001b[1;33m,\u001b[0m\u001b[1;36m9\u001b[0m\u001b[1;33m]\u001b[0m \u001b[1;33m]\u001b[0m\u001b[1;33m)\u001b[0m\u001b[1;33m\u001b[0m\u001b[1;33m\u001b[0m\u001b[0m\n\u001b[0m\u001b[0;32m      3\u001b[0m \u001b[1;33m\u001b[0m\u001b[0m\n\u001b[0;32m      4\u001b[0m \u001b[0mm2\u001b[0m\u001b[1;33m\u001b[0m\u001b[1;33m\u001b[0m\u001b[0m\n",
            "\u001b[1;31mNameError\u001b[0m: name 'b' is not defined"
          ]
        }
      ]
    },
    {
      "cell_type": "code",
      "metadata": {
        "id": "8b33a5ce",
        "outputId": "f45c2f91-a189-49cc-dfde-7f590dfb767a"
      },
      "source": [
        "#Es können auch Matrizen mit Nullen erstellt werden. So z.B. wenn erst zu einem späteren Zeitpunkt Werte übertragen werden.\n",
        "m3 = np.zeros( (100,20), int)\n",
        "\n",
        "m3"
      ],
      "id": "8b33a5ce",
      "execution_count": null,
      "outputs": [
        {
          "output_type": "execute_result",
          "data": {
            "text/plain": [
              "array([[0, 0, 0, ..., 0, 0, 0],\n",
              "       [0, 0, 0, ..., 0, 0, 0],\n",
              "       [0, 0, 0, ..., 0, 0, 0],\n",
              "       ...,\n",
              "       [0, 0, 0, ..., 0, 0, 0],\n",
              "       [0, 0, 0, ..., 0, 0, 0],\n",
              "       [0, 0, 0, ..., 0, 0, 0]])"
            ]
          },
          "metadata": {
            "tags": []
          },
          "execution_count": 5
        }
      ]
    },
    {
      "cell_type": "code",
      "metadata": {
        "id": "4b5036d8",
        "outputId": "18bd24d1-fdd1-4b1e-82d0-f1ab102a2748"
      },
      "source": [
        "#mittels arange() und linespace() können in einem vordefinierten Bereich Werte in einer Liste eingetragen werden.\n",
        "#mittels arange() wird eine Schrittweite vorgegeben\n",
        "ara = np.arange(0, 5, 0.1,)\n",
        "print(ara)\n",
        "\n",
        "#Leerzeile zwecks der Übersichtlichkeit\n",
        "print(\"\\n\")\n",
        "\n",
        "#mittels linespace() wird die Schrittlänge aufgrund dem Minimal- und dem Maximalwert automatisch ermittelt.\n",
        "#Syntax hierzu linespace(start, stop, num)\n",
        "lin = np.linspace(0, 5, 10, endpoint=True)\n",
        "print(lin)\n",
        "\n",
        "#Leerzeile zwecks der Übersichtlichkeit\n",
        "print(\"\\n\")\n",
        "\n",
        "#endpoint true = Der Endpunkt muss dem Stop entsprechen. Endpoint false= Der Endpunkt muss nicht dem Stop entsprechen\n",
        "lin2 = np.linspace(0, 5, 10, endpoint=False)\n",
        "print(lin2)"
      ],
      "id": "4b5036d8",
      "execution_count": null,
      "outputs": [
        {
          "output_type": "stream",
          "text": [
            "[0.  0.1 0.2 0.3 0.4 0.5 0.6 0.7 0.8 0.9 1.  1.1 1.2 1.3 1.4 1.5 1.6 1.7\n",
            " 1.8 1.9 2.  2.1 2.2 2.3 2.4 2.5 2.6 2.7 2.8 2.9 3.  3.1 3.2 3.3 3.4 3.5\n",
            " 3.6 3.7 3.8 3.9 4.  4.1 4.2 4.3 4.4 4.5 4.6 4.7 4.8 4.9]\n",
            "\n",
            "\n",
            "[0.         0.55555556 1.11111111 1.66666667 2.22222222 2.77777778\n",
            " 3.33333333 3.88888889 4.44444444 5.        ]\n",
            "\n",
            "\n",
            "[0.  0.5 1.  1.5 2.  2.5 3.  3.5 4.  4.5]\n"
          ],
          "name": "stdout"
        }
      ]
    },
    {
      "cell_type": "markdown",
      "metadata": {
        "id": "4e08a30e"
      },
      "source": [
        "## 2.2 Inhalte in Arrays abrufen und anpassen\n",
        "Ähnlich einer Liste kann auch auf Elemente in Arrays zugegriffen werden."
      ],
      "id": "4e08a30e"
    },
    {
      "cell_type": "code",
      "metadata": {
        "id": "3cbb62d2",
        "outputId": "d1f9b507-452c-4682-fe54-0eab1fa7f4fe"
      },
      "source": [
        "nums = [1,2,3,4,5]\n",
        "\n",
        "mein_array = np.array(nums)\n",
        "\n",
        "#Abrufen der Elemente beginnend beim Zählerplatz 0\n",
        "print(mein_array[1])\n",
        "#Abrufen des letzten Wertes der Liste (mit - kann die Liste von hinten angelesen werden)\n",
        "print(mein_array[-1])\n",
        "\n",
        "#Alle Werte zwischen i >= 0 und i < len(array) sind möglich. Die Indizierung beginnt, wie oben dargestellt bei 0"
      ],
      "id": "3cbb62d2",
      "execution_count": null,
      "outputs": [
        {
          "output_type": "stream",
          "text": [
            "2\n",
            "5\n"
          ],
          "name": "stdout"
        }
      ]
    },
    {
      "cell_type": "code",
      "metadata": {
        "id": "526d596f",
        "outputId": "234b2610-cb26-4e05-a2b2-7add91ae48a6"
      },
      "source": [
        "neues_array = np.arange(100)\n",
        "#print(neues_array)\n",
        "#Ähnlich dem Slicing in Listen und Tupeln kann auch hier ein Ausschnitt an Elementen herausgezogen werden und bei Bedarf an eine neue Variable übertragen werden.\n",
        "# Wie bei Listen und Tupeln oder in Excel ;-)  kann ein Intervall selektiert werden.\n",
        "#print(neues_array[3:8])\n",
        "\n",
        "# Neben der Selektion kann auch wieder eine Schrittfolge (hier mit der Schrittfolge 2 gezeigt) eingestellt werden.\n",
        "print(neues_array[3:80:2])\n",
        "# Ergebnis: array([3, 5, 7])"
      ],
      "id": "526d596f",
      "execution_count": null,
      "outputs": [
        {
          "output_type": "stream",
          "text": [
            "[ 3  5  7  9 11 13 15 17 19 21 23 25 27 29 31 33 35 37 39 41 43 45 47 49\n",
            " 51 53 55 57 59 61 63 65 67 69 71 73 75 77 79]\n"
          ],
          "name": "stdout"
        }
      ]
    },
    {
      "cell_type": "code",
      "metadata": {
        "id": "03516a0f",
        "outputId": "904c7a9e-2ea5-47be-e558-a85523f44f6d"
      },
      "source": [
        "#Üblich ist beim Slicing, dass die untere Grenze miteingeschlossen wird. Mittels start:stop:step wird der Bereich festgelegt.\n",
        "#Sollte start oder step fehlen, so wird der ganze Bereich gewählt.\n",
        "print(neues_array[60:3:-3])"
      ],
      "id": "03516a0f",
      "execution_count": null,
      "outputs": [
        {
          "output_type": "stream",
          "text": [
            "[60 57 54 51 48 45 42 39 36 33 30 27 24 21 18 15 12  9  6]\n"
          ],
          "name": "stdout"
        }
      ]
    },
    {
      "cell_type": "code",
      "metadata": {
        "id": "9c130be5"
      },
      "source": [
        "m4 = np.array([ [1,2,3], [4,5,6] ])\n",
        "\n",
        "print(m4)\n",
        "\n",
        "\n",
        "# Es soll nur das Element aus der ersten Zeile und der zweiten Spalte ausgegeben werden.\n",
        "print(\"Das Element in der ersten Zeile und zweiten Spalte lautet: \",m4[0][1])\n",
        "# Alternative Schreibeweise für ein Matrix-Slicing\n",
        "print(\"Das Element in der ersten Zeile und zweiten Spalte lautet: \",m4[0,1])"
      ],
      "id": "9c130be5",
      "execution_count": null,
      "outputs": []
    },
    {
      "cell_type": "markdown",
      "metadata": {
        "id": "f53b502e"
      },
      "source": [
        "## 2.3 Funktionen in numpy\n",
        "numpy hat sehr viele Funktionen, welche auch im math-Modul bereits existieren. Der Vorteil dieser Funktionen ist jedoch, dass diese Funktionen direkt auf numpy-Arrays anwendbar sind. Hier eine kleine Auswahl an Funktionen. Für mehr am Besten die Entwicklungsseite besuchen: https://numpy.org/doc/stable/reference/index.html"
      ],
      "id": "f53b502e"
    },
    {
      "cell_type": "code",
      "metadata": {
        "id": "9f03a069",
        "outputId": "b8738908-f66a-42b3-b1ed-99d62598cb0e"
      },
      "source": [
        "# neben den üblichen mathematischen Operatoren können z.B. folgende Funktionen angewendet werden. Dabei wird stets ein neues array erstellt. Das Ur-Array bleibt davon unberührt.\n",
        "op_array = np.arange(10)\n",
        "\n",
        "print(\"Originalliste: \",op_array)\n",
        "\n",
        "\n",
        "print(\"Originallistenelemente+1: \",op_array+1)\n",
        "\n",
        "\n",
        "print(\"Originallistenelemente zum Quadrat: \",op_array**2)\n",
        "\n",
        "\n",
        "print(\"Wurzel aus den Elementen in der Originalliste: \",np.sqrt(op_array**4))\n",
        "\n",
        "\n",
        "print(\"Sinus aus den Elementen der Originalliste: \",np.sin(op_array))\n",
        "\n",
        "\n",
        "print(\"Sigmoid aus den Elementen der Originalliste: \",1/(1 + np.exp(-op_array)))"
      ],
      "id": "9f03a069",
      "execution_count": null,
      "outputs": [
        {
          "output_type": "stream",
          "text": [
            "Originalliste:  [0 1 2 3 4 5 6 7 8 9]\n",
            "Originallistenelemente+1:  [ 1  2  3  4  5  6  7  8  9 10]\n",
            "Originallistenelemente zum Quadrat:  [ 0  1  4  9 16 25 36 49 64 81]\n",
            "Wurzel aus den Elementen in der Originalliste:  [ 0.  1.  4.  9. 16. 25. 36. 49. 64. 81.]\n",
            "Sinus aus den Elementen der Originalliste:  [ 0.          0.84147098  0.90929743  0.14112001 -0.7568025  -0.95892427\n",
            " -0.2794155   0.6569866   0.98935825  0.41211849]\n",
            "Sigmoid aus den Elementen der Originalliste:  [0.5        0.73105858 0.88079708 0.95257413 0.98201379 0.99330715\n",
            " 0.99752738 0.99908895 0.99966465 0.99987661]\n"
          ],
          "name": "stdout"
        }
      ]
    },
    {
      "cell_type": "code",
      "metadata": {
        "id": "d9ece3eb",
        "outputId": "51606962-a8e2-4a38-88de-19a85a15be40"
      },
      "source": [
        "# Eine weitere interessante Funktion ist das Suchen nach dem geringsten oder größten Wert in einer Liste/Matrix. Dafür wird der Befehl argmin() respektive argmax() genutzt.\n",
        "mini_liste = np.array( [10,1,2,4,5,2] )\n",
        "mini_matrix = np.array([ [12013,20,1201], [146,1,23] ])\n",
        "\n",
        "print(mini_liste)\n",
        "print(mini_matrix)\n",
        "\n",
        "print(np.argmin(mini_liste))\n",
        "\n",
        "print(np.argmin(mini_matrix))\n",
        "\n",
        "#Mittels dem Argument axis=0 wird eine spaltenweise und mit axis=1 eine zeilenweise Auswertung durchgeführt.\n",
        "print(np.argmin(mini_matrix, axis=0))\n",
        "\n",
        "print(np.argmin(mini_matrix, axis=1))"
      ],
      "id": "d9ece3eb",
      "execution_count": null,
      "outputs": [
        {
          "output_type": "stream",
          "text": [
            "[10  1  2  4  5  2]\n",
            "[[12013    20  1201]\n",
            " [  146     1    23]]\n",
            "1\n",
            "4\n",
            "[1 1 1]\n",
            "[1 1]\n"
          ],
          "name": "stdout"
        }
      ]
    }
  ]
}