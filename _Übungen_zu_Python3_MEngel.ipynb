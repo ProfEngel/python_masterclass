{
  "nbformat": 4,
  "nbformat_minor": 5,
  "metadata": {
    "kernelspec": {
      "display_name": "Python 3",
      "language": "python",
      "name": "python3"
    },
    "language_info": {
      "codemirror_mode": {
        "name": "ipython",
        "version": 3
      },
      "file_extension": ".py",
      "mimetype": "text/x-python",
      "name": "python",
      "nbconvert_exporter": "python",
      "pygments_lexer": "ipython3",
      "version": "3.8.8"
    },
    "colab": {
      "provenance": []
    }
  },
  "cells": [
    {
      "cell_type": "markdown",
      "metadata": {
        "id": "259f3604"
      },
      "source": [
        "# 1. Übungen zu Python3 - Allgemeiner Teil\n",
        "In diesem allgemeinen Teil stehen Übungsaufgaben zu Python3. Also zu den Inhalten aus \"1. Programmieren in Python3 -Grundlagen\".\n",
        "- (mathematische und Vergleichs-)Operatoren\n",
        "- Variablen\n",
        "- Listen, Tupeln, Dictionaries\n",
        "- Kontrollstrukturen\n",
        "- Funktionen\n",
        "- Objekte und Klassen\n",
        "\n",
        "In der Folge wird die Aufgabe erwähnt. Schreiben Sie Ihre Lösung als neue Zelle darunter."
      ],
      "id": "259f3604"
    },
    {
      "cell_type": "markdown",
      "metadata": {
        "id": "6cab9fdc"
      },
      "source": [
        "## 1.1 Berechnungen\n",
        "1. Erstellen Sie eine Berechnung einer Variable wie folgt: a ist 2 und soll quadriert werden\n",
        "2. Das Ergebnis aus a und b =3 sollen in c per Modulo berechnet werden"
      ],
      "id": "6cab9fdc"
    },
    {
      "cell_type": "code",
      "source": [
        "# Aufgabe 1.1 1 Berechnung Variable a\n",
        "a=2**2\n",
        "print(a)\n",
        "b=3\n",
        "c=a%b\n",
        "print(c)"
      ],
      "metadata": {
        "colab": {
          "base_uri": "https://localhost:8080/"
        },
        "id": "aDH3KNeQoHBU",
        "outputId": "b831341e-8871-45ce-cd63-3f85e5f1ca2e"
      },
      "id": "aDH3KNeQoHBU",
      "execution_count": null,
      "outputs": [
        {
          "output_type": "stream",
          "name": "stdout",
          "text": [
            "4\n",
            "1\n"
          ]
        }
      ]
    },
    {
      "cell_type": "markdown",
      "metadata": {
        "id": "17795902"
      },
      "source": [
        "## 1.2 Listen...\n",
        "1. Eine Liste mit dem Namen meine_charts beinhaltet die Werte 3,4,5,2,3 in genau dieser Reihenfolge. Fügen Sie den Wert 10 am Ende hinzu\n",
        "2. Geben Sie den dritten Wert der Liste aus 1. aus\n",
        "3. Geben Sie den Typ der obigen Liste aus\n",
        "4. Überführen Sie die Liste in eine Tupel\n",
        "5. Überführen Sie die obige Liste bis auf den 4. Wert alles in eine neue Liste mit dem Namen neue_liste\n",
        "6. Erstellen Sie nun ein Dictionary mit den folgenden Werten: (Student und Note) Peter=3, Mark=2, Hannah=1, Markus=3\n",
        "7. Fügen Sie einen weiteren Studierenden hinzu: Marta=2"
      ],
      "id": "17795902"
    },
    {
      "cell_type": "markdown",
      "metadata": {
        "id": "74a1bc20"
      },
      "source": [
        "## 1.3 Kontrollstrukturen und Funktionen\n",
        "1. Hundejahre: Erstellen Sie eine Funktion mit dem Namen Hundejahre und berechnen Sie die Eingabe (Menschenjahre) zu Hundejahren. Die Umrechnung sieht dabei wie folgt aus. Mensch 0-10 Jahre = Hund, Faktor 1,5 - Mensch >10 - 30 Jahre = Hund Faktor 1,6 - Mensch >30 = Hund Faktor 2. Geben Sie den Hundejahrenwert aber auch den Menschenjahrenwert in einem Printbefehl aus.\n",
        "2. BMI: Erstellen Sie eine Funktion mit dem Namen BMI und geben nach einer Eingabe den Body-Mass-Index zurück. Die Ausgangstabelle für die Berechnung sieht wie folgt aus. Untergewicht wenn der BMI bei Frauen unter 19 und bei Männern unter 20 ist. Normalgewicht, wenn bei Frauen zwischen 19-24 und bei Männern zwischen 20-25 ist. Übergewicht wenn bei Frauen zwischen 25-30 und bei Männern zwischen 26-30 ist. behandlungsbedürftiges Übergewicht, wenn bei Frauen >30 und bei Männern ebenfalls >30. Die Formel für den BMI lautet: BMI=Gewicht*10.000/Größe^2. Welche Werte müssen zuvor abgefragt werden, damit eine Berechnung funktioniert? Führen Sie diese Berechnung aus.\n",
        "3. Stromkostenrechnung: Sie haben drei Tarife zur Auswahl. Ihr Programm soll den günstigsten Tarif dem Anwender zurückgeben. Der Anwender gibt dafür seinen Jahresstromverbrauch in kWh ein. Tarif 1: Arbeitspreis 15,45 Cent/kWh und Grundpreis 2,97 €/Monat. Tarif 2: Arbeitspreis 13,79 Cent/kWh und Grundpreis 5,94 €/Monat. Tarif 3: Arbeitspreis 11,63 Cent/kWh und Grundpreis 11,84 €/Monat."
      ],
      "id": "74a1bc20"
    },
    {
      "cell_type": "code",
      "source": [
        "#Aufgabe 1: Hundejahre"
      ],
      "metadata": {
        "id": "ge1aDbSSC8D0"
      },
      "id": "ge1aDbSSC8D0",
      "execution_count": null,
      "outputs": []
    },
    {
      "cell_type": "code",
      "source": [
        "#Aufgabe 2: BMI"
      ],
      "metadata": {
        "id": "KKReQbAUDA7O"
      },
      "id": "KKReQbAUDA7O",
      "execution_count": null,
      "outputs": []
    },
    {
      "cell_type": "code",
      "source": [
        "#Aufgabe 3: Stromkostenrechnung\n",
        "# Eingabewert des Jahresstromverbrauchs in kWh\n",
        "verbrauch = float(input(\"Bitte geben Sie Ihren Jahresstromverbrauch in kWh ein: \"))\n",
        "\n",
        "# Berechnung der Stromkosten für jeden Tarif\n",
        "tarif1 = 15.45 * verbrauch / 100 + 2.97 * 12\n",
        "tarif2 = 13.79 * verbrauch / 100 + 5.94 * 12\n",
        "tarif3 = 11.63 * verbrauch / 100 + 11.84 * 12\n",
        "\n",
        "# Vergleich der Stromkosten und Ausgabe des günstigsten Tarifs\n",
        "if tarif1 < tarif2 and tarif1 < tarif3:\n",
        "    print(\"Der günstigste Tarif ist Tarif 1 mit Kosten von\", tarif1, \"€/Jahr.\")\n",
        "elif tarif2 < tarif1 and tarif2 < tarif3:\n",
        "    print(\"Der günstigste Tarif ist Tarif 2 mit Kosten von\", tarif2, \"€/Jahr.\")\n",
        "else:\n",
        "    print(\"Der günstigste Tarif ist Tarif 3 mit Kosten von\", tarif3, \"€/Jahr.\")"
      ],
      "metadata": {
        "id": "7PpVNbjsDDnS",
        "colab": {
          "base_uri": "https://localhost:8080/"
        },
        "outputId": "24e9d5c4-71e8-44a1-e85a-c0f89c840708"
      },
      "id": "7PpVNbjsDDnS",
      "execution_count": null,
      "outputs": [
        {
          "output_type": "stream",
          "name": "stdout",
          "text": [
            "Bitte geben Sie Ihren Jahresstromverbrauch in kWh ein: 20\n",
            "Der günstigste Tarif ist Tarif 1 mit Kosten von 38.730000000000004 €/Jahr.\n"
          ]
        }
      ]
    },
    {
      "cell_type": "markdown",
      "metadata": {
        "id": "bfbdb36b"
      },
      "source": [
        "## 1.4 Objekte und Klassen\n",
        "1. Sie haben eine Klasse für ein neuronales Netz. Dieses neuronale Netz soll dabei folgende Parameter variabel übernehmen.\n",
        " - Anzahl Schichten\n",
        " - Anzahl Neuronen je Schicht\n",
        " - Aktivierungsfunktion (hier entweder tanh, sigmoid oder relu) aller Schichten\n",
        " - Die Anzahl Schichten sollte >=2 sein\n",
        " - Die Anzahl Neuronen sollte >=2 sein\n",
        " - Eine Aktivierungsfunktion muss übergeben werden, wenn nicht wird sigmoid gewählt.\n",
        " - Geben Sie am Ende die Zusammenfassung Ihres Netzes wieder."
      ],
      "id": "bfbdb36b"
    },
    {
      "cell_type": "markdown",
      "metadata": {
        "id": "4d166df8"
      },
      "source": [
        "# 2. Übungen zu numpy"
      ],
      "id": "4d166df8"
    },
    {
      "cell_type": "code",
      "metadata": {
        "id": "936d6cc8"
      },
      "source": [
        "import numpy as np"
      ],
      "id": "936d6cc8",
      "execution_count": null,
      "outputs": []
    },
    {
      "cell_type": "markdown",
      "metadata": {
        "id": "337b6e20"
      },
      "source": [
        "1. Erstellen Sie einen zweidimensionalen numpy-Array mit folgenden Werten: [1,2,3], [4,5,6], [7,8,9]\n",
        "2. Überführen Sie die zweite Spalte in einen neuen Array\n",
        "3. Rufen Sie die letzten zwei Elemente ab und übergeben diese je an eine Variable\n",
        "4. Lassen Sie alle Werte innerhalb der Matrix aus 1. mit der Exponential-Funktion in somit neue Werte umrechnen und geben diese Matrix aus"
      ],
      "id": "337b6e20"
    },
    {
      "cell_type": "markdown",
      "metadata": {
        "id": "c1949cb1"
      },
      "source": [
        "5. Erstellen Sie eine 6X6 Nullmatrix und befüllen diese im Anschluss wie folgt:\n",
        " - Erste Zeile immer die 1 eintragen\n",
        " - Zweite Zeile immer die 2 eintragen usw."
      ],
      "id": "c1949cb1"
    },
    {
      "cell_type": "code",
      "metadata": {
        "id": "258bdae4",
        "outputId": "9d004217-6d98-4481-cc60-229f3b3bea08"
      },
      "source": [
        "b = np.zeros([6,6])\n",
        "print(b)"
      ],
      "id": "258bdae4",
      "execution_count": null,
      "outputs": [
        {
          "output_type": "stream",
          "text": [
            "[[0. 0. 0. 0. 0. 0.]\n",
            " [0. 0. 0. 0. 0. 0.]\n",
            " [0. 0. 0. 0. 0. 0.]\n",
            " [0. 0. 0. 0. 0. 0.]\n",
            " [0. 0. 0. 0. 0. 0.]\n",
            " [0. 0. 0. 0. 0. 0.]]\n"
          ],
          "name": "stdout"
        }
      ]
    },
    {
      "cell_type": "code",
      "metadata": {
        "id": "eb41d5dd",
        "outputId": "b94d5bf7-344a-45f4-91d4-94f3cb1a7444"
      },
      "source": [
        "# Idee für eine Lösung\n",
        "b[0:6] = range(1,7)\n",
        "print(b)"
      ],
      "id": "eb41d5dd",
      "execution_count": null,
      "outputs": [
        {
          "output_type": "stream",
          "text": [
            "[[1. 2. 3. 4. 5. 6.]\n",
            " [1. 2. 3. 4. 5. 6.]\n",
            " [1. 2. 3. 4. 5. 6.]\n",
            " [1. 2. 3. 4. 5. 6.]\n",
            " [1. 2. 3. 4. 5. 6.]\n",
            " [1. 2. 3. 4. 5. 6.]]\n"
          ],
          "name": "stdout"
        }
      ]
    },
    {
      "cell_type": "code",
      "metadata": {
        "id": "a8615cae",
        "outputId": "4502b4e3-71fa-4d3a-e50c-ac50f77f02ae"
      },
      "source": [
        "# weitere Idee für eine Lösung\n",
        "b[0:5] = 1\n",
        "b[1:5] = 2\n",
        "b[2:5] = 3\n",
        "b[3:5] = 4\n",
        "b[4:5] = 5\n",
        "b[5] = 6\n",
        "print(b)"
      ],
      "id": "a8615cae",
      "execution_count": null,
      "outputs": [
        {
          "output_type": "stream",
          "text": [
            "[[1. 1. 1. 1. 1. 1.]\n",
            " [2. 2. 2. 2. 2. 2.]\n",
            " [3. 3. 3. 3. 3. 3.]\n",
            " [4. 4. 4. 4. 4. 4.]\n",
            " [5. 5. 5. 5. 5. 5.]\n",
            " [6. 6. 6. 6. 6. 6.]]\n"
          ],
          "name": "stdout"
        }
      ]
    },
    {
      "cell_type": "code",
      "metadata": {
        "id": "c7f91cd9",
        "outputId": "81a59f10-ee6f-452f-a81a-962d92ff0c45"
      },
      "source": [
        "# und noch eine weitere Idee für eine Lösung\n",
        "i=0\n",
        "m=0\n",
        "z=1\n",
        "while (m <= 6):\n",
        "  for i in range(6):\n",
        "    b[m:i]=z\n",
        "    i= i+1\n",
        "  i= 0\n",
        "  m= m+1\n",
        "  z= z+1\n",
        "print(b)"
      ],
      "id": "c7f91cd9",
      "execution_count": null,
      "outputs": [
        {
          "output_type": "stream",
          "text": [
            "[[1. 1. 1. 1. 1. 1.]\n",
            " [2. 2. 2. 2. 2. 2.]\n",
            " [3. 3. 3. 3. 3. 3.]\n",
            " [4. 4. 4. 4. 4. 4.]\n",
            " [5. 5. 5. 5. 5. 5.]\n",
            " [6. 6. 6. 6. 6. 6.]]\n"
          ],
          "name": "stdout"
        }
      ]
    },
    {
      "cell_type": "code",
      "metadata": {
        "id": "9b04cba1",
        "outputId": "8d57c051-ecee-4cab-b122-68f084018b96"
      },
      "source": [
        "zeilendimension=int(input(\"Wie viele Zeilen soll die Matrix enthalten?\"))\n",
        "spaltendimension=zeilendimension\n",
        "b = np.zeros([zeilendimension,spaltendimension])\n",
        "\n",
        "#\n",
        "#\n",
        "####################################\n",
        "# WICHTIG BEI ALLEN ÜBUNGEN!!!!\n",
        "# 1. erstmal an das Gesamtproblem herantasten und jeweils prüfen.\n",
        "# 2. Im zweiten Schritt dann eruieren wie es vereinfacht möglich wäre.\n",
        "# 3. Und dann erst umsetzen\n",
        "####################################\n",
        "#\n",
        "#\n",
        "\n",
        "# 1. Herantasten und prüfen\n",
        "#zaehler=4\n",
        "#b[0:1]=1\n",
        "#b[1:2]=2\n",
        "#b[2:3]=3\n",
        "\n",
        "# 2. Erkennen ob es Wiederholungen gibt und/oder Werte variabel gestaltet werden können\n",
        "#b[zaehler-1:zaehler]=zaehler\n",
        "\n",
        "# 3. Umsetzen\n",
        "for i in range(zeilendimension+1):\n",
        "    b[i-1:i]=i\n",
        "\n",
        "# Lösung ausgeben\n",
        "print(b)"
      ],
      "id": "9b04cba1",
      "execution_count": null,
      "outputs": [
        {
          "output_type": "stream",
          "text": [
            "2\n",
            "[[1. 1.]\n",
            " [2. 2.]]\n"
          ],
          "name": "stdout"
        }
      ]
    },
    {
      "cell_type": "markdown",
      "metadata": {
        "id": "52c22ffc"
      },
      "source": [
        "# 3. Übungen zu pandas"
      ],
      "id": "52c22ffc"
    },
    {
      "cell_type": "markdown",
      "metadata": {
        "id": "2a790346"
      },
      "source": [
        "## 3.1 Pfade\n",
        "1. Öffnen Sie die CSV-Datei country aus dem Ordner DataScienceEssentials\\Python3Notebooks\\datasets und speichern diese Datei als Dataframe mit dem Namen df_country (HINWEIS: Sollten Sie diese Datei nicht haben, laden Sie diese bitte herunter und legen diese in dem oben genannten Ordner ab)\n",
        "2. Öfnnen Sie nun die Datei heart.csv aus dem Ordner DataScienceEssentials\\Python3Notebooks\\2 MachineLearning mit Python3\\data und speichern diese Datei als Dataframe df_heart ab.\n",
        "3. Öfnen Sie nun die Datei Golf_Datensatz_VL.csv aus dem Ordner DataScienceEssentials\\Datasets und speichern diese als df_golf ab.\n",
        "3. Öfnen Sie nun die Datei iris_full.csv aus dem Ordner DataScienceEssentials\\Datasets und speichern diese als df_iris ab.\n",
        "\n",
        "Geben Sie jeweils den Kopf des Dataframe aus.\n",
        "\n",
        "HINWEIS: Achten Sie auf die Trenner und sonstige Zeichen in den Dateien. D.h. am Besten vorab mit einem Texteditor anschauen und den delimiter festlegen."
      ],
      "id": "2a790346"
    },
    {
      "cell_type": "markdown",
      "metadata": {
        "id": "87bb90b9"
      },
      "source": [
        "## 3.2 Daten rund um einen Dataframe\n",
        "1. Geben Sie die länge eines dataframe aus.\n",
        "2. Geben Sie statistische Merkmale des Dataframe heart aus.\n",
        "3. Geben Sie den Typ des Dataframe aus.\n",
        "4. Überführen Sie einen Numpy-Nullarray mit 6*4 in ein Pandas Dataframe und zurück"
      ],
      "id": "87bb90b9"
    },
    {
      "cell_type": "markdown",
      "metadata": {
        "id": "2905caf7"
      },
      "source": [
        "## 3.3 Slicing, Filtern und Sortieren\n",
        "1. Geben Sie die 3 Zeile des dataframe heart in eine Serie aus\n",
        "2. Geben Sie die Spalte output aus dem dataframe heart als y aus und den Rest als X und lassen Sie sich diese Vektoren und Matrizen anzeigen.\n",
        "3. Übergeben Sie aus dem Dataframe country nur die Werte der United States...\n",
        "4. Sortieren Sie den Dataframe iris nach sepal length."
      ],
      "id": "2905caf7"
    },
    {
      "cell_type": "markdown",
      "metadata": {
        "id": "98eec68f"
      },
      "source": [
        "## 3.4 Pandas GUI\n",
        "1. Lassen Sie sich einen Dataframe Ihrer Wahl mit Pandas GUI anzeigen und spielen mit den Diagrammen.\n",
        "2. Können Daten in dieser Tabelle verändert werden, so dass diese dann auch im Dataframe geändert sind?"
      ],
      "id": "98eec68f"
    },
    {
      "cell_type": "markdown",
      "metadata": {
        "id": "a347f788"
      },
      "source": [
        "# 4. Übungen zu Matplotlib und seaborn"
      ],
      "id": "a347f788"
    },
    {
      "cell_type": "markdown",
      "metadata": {
        "id": "aeeea7c0"
      },
      "source": [
        "HINWEIS: Beachten Sie, dass Sie für die folgenden Grafiken auch die bis hierhin bekannten Module (numpy, pandas) einsetzen sollten.\n",
        "\n",
        "## 4.1 Matplotlib\n",
        "\n",
        "1. Nehmen Sie folgende Werte und überführen diese in einen numpy-array --> x= [1,2,3] und y = [4,5,6]\n",
        "2. Plotten Sie nun ein Liniendiagramm aus dem array in 1.\n",
        "3. Plotten Sie nun ein Balkendiagramm aus dem array in 1.\n",
        "4. Fügen Sie dem Liniendiagramm in 2. eine Diagrammtitel, X-Label und Y-Label sowie eine passende Legende hinzu.\n",
        "5. Fügen Sie nun passende Titel für die Säulen hinzu. Erster Wert=Bananen, Zweiter Wert=Zwiebeln, Dritter Wert=Knoblauch\n",
        "6. Plotten Sie nun die Werte in 1. in einem Punktdiagramm\n",
        "7. Stellen Sie nun die drei Diagramme in 4., 5. und 6. nebeneinander auf.\n",
        "\n",
        "## 4.2 Seaborn\n",
        "\n",
        "1. Nehmen Sie den Dataframe country aus 3. und visualisieren Sie die populationsentwicklung von China und Indien im Vergleich\n",
        "2. Berechnen Sie nun ausgehend vom ersten gemessenen Jahr die prozentuale Entwicklung und zeigen diese in einem Liniendiagramm für Indien und China auf.\n",
        "3. Beziehen Sie den Datensatz titanic aus seaborn (sns.load_dataset(\"titanic\") und überführen diesen in einen pandas-dataframe.\n",
        "4. Erstellen Sie basierend auf dem titanic-Datensatz einen Violinplot in dem auf der X-Achse die Klassen (Crew, First, Second, Third) aufgezeigt werden. Innerhalb des Violinplots soll nach Geschlecht aufgebaucht(getrennt) werden.\n",
        "5. Nehmen Sie den heart.csv-Datensatz (lokal auf Ihrem PC) und überführen diesen ebenfalls in einen Dataframe.\n",
        "6. Erstellen Sie einen Multiscatterplot aus diesem Datensatz in dem der Output farblich dargestellt wird. Als Zwischenplot soll ein Histogramm des Merkmals gezeigt werden."
      ],
      "id": "aeeea7c0"
    },
    {
      "cell_type": "markdown",
      "metadata": {
        "id": "1a69c089"
      },
      "source": [
        "# 5. Übungen zu Data Science mit SciKit-Learn"
      ],
      "id": "1a69c089"
    },
    {
      "cell_type": "markdown",
      "metadata": {
        "id": "bf7dda53"
      },
      "source": [
        "HINWEIS: Für die folgende Aufgaben benötigen Sie alle bekannten Bibliotheken und Aspekte, welche Sie bis hierhin gelernt haben. Sie benötigen darüberhinaus diverse Programmschnipsel aus den Dateien:\n",
        "- 0.0 Vollständiges Beispiel für eine Klassifikation mit Preprocessing\n",
        "- 0.2 Einfache lineare Regression\n",
        "- 0.1 Einfache Klassifikation IRIS-Datensatz\n",
        "- 2.0 Vorverarbeitung für eine Klassifikation oder Regression\n",
        "- u.w."
      ],
      "id": "bf7dda53"
    },
    {
      "cell_type": "markdown",
      "metadata": {
        "id": "48908135"
      },
      "source": [
        "## 5.1 Klassifikation ohne Preprocessing\n",
        "1. Beziehen Sie den iris-Datensatz und überführen diesen in ein Pandas-Dataframe.\n",
        "2. Überführen Sie die Klassen der drei Blumensorten in die Werte 0, 1 und 2\n",
        "3. Splitten Sie den Datensatz auf in Training und Test. Testgröße 0.1\n",
        "4. Nutzen Sie ein neuronales Netz als Model mit der aktivierungsfunktion relu, dem solver adam und einem Hidden Layer Größe von 5,3\n",
        "5. Geben Sie die Loss-Werte je Iteration aus\n",
        "6. Plotten Sie die Losskurve\n",
        "6. Geben Sie auch eine Confusion Matrix aus\n",
        "\n",
        "## 5.2 Klassifikation mit Preprocessing\n",
        "1. Beziehen Sie den Iris-Dirty-Datensatz und überführen Sie diesen in einen Pandas-Dataframe.\n",
        "2. Ermitteln Sie fehlende Werte und eliminieren Sie diese Instanzen\n",
        "3. Finden Sie Dubletten und löschen auch diese Instanzen\n",
        "4. Sind Tippfehler oder Zeichendreher in den Klassen zu sehen. Dann diese anpassen\n",
        "5. Passen Sie die Einheiten an. Es sollten nur Zahlen drin sein. Achten Sie auf Kommatas und Punktierungen bzw. Einheiten bei den Werten.\n",
        "6. Ermitteln Sie Ausreißer mittels describe und entsprechenden Plots.\n",
        "7. Ermitteln Sie mittels Pearson Correlation ob Merkmale mit Werten >0,9 korrelieren. Wenn ja lassen Sie diese Merkmale aussen vor.\n",
        "8. Normalisieren Sie die Daten im Rahmen zwischen 0 und 1\n",
        "9. Splitten Sie den Datensatz auf in Training und Test. Testgröße 0.1\n",
        "10. Führen Sie ein oversampling und ein undersampling (Balancing) durch. Nutzen Sie später beide Datensätze (oversampling = 1 und undersampling = 2) bei einer getrennten Modellierung durch. Das bessere Modell wird verwendet.\n",
        "11. Trainieren Sie einen Nearest Neighbor\n",
        "12. Plotten Sie die roc-Kurve und die Precision-Recall-Kurve nebeneinander für das oversampling- und das undersampling-Modell.\n",
        "13. Entscheiden Sie, welches Modell Sie eher für eine Klassifikation verwenden würden.\n",
        "\n",
        "## 5.3 Regression mit/ohne Preprocessing\n",
        "1. Beziehen Sie den Datensatz Boston House Pricing aus dem seaborn-Datensatz\n",
        "2. Führen Sie die Schritte 2 bis 10 aus 5.2 sofern nötig durch\n",
        "3. Trainieren Sie eine lineare Regression\n",
        "4. Geben Sie den r2_score je Iteration aus\n",
        "4. Plotten Sie die Ergebnisse\n",
        "\n"
      ],
      "id": "48908135"
    }
  ]
}