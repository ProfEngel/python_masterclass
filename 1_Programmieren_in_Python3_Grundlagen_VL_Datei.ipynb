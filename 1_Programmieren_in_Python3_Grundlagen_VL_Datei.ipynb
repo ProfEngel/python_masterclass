{
  "nbformat": 4,
  "nbformat_minor": 0,
  "metadata": {
    "colab": {
      "provenance": [],
      "collapsed_sections": [
        "Qg0b3sBEM17m",
        "b5dL2WJJBO0b",
        "8uL0VYe6BO0f",
        "HiaZZ1NdBO0g",
        "VlX-RV7-M17w",
        "FmaO_Qh1M17y",
        "3BAfWiufBO0j",
        "TxuDY9yFM172",
        "FyMmLFvbM179",
        "r5-XaA8-BO0m",
        "fYXG1e-zM18I",
        "S1fBYqfmM18U",
        "1ut15ytEM18w",
        "ZqiJ7eKqM19F",
        "nYdB4-3CBO00"
      ]
    },
    "kernelspec": {
      "display_name": "Python 3",
      "language": "python",
      "name": "python3"
    },
    "language_info": {
      "codemirror_mode": {
        "name": "ipython",
        "version": 3
      },
      "file_extension": ".py",
      "mimetype": "text/x-python",
      "name": "python",
      "nbconvert_exporter": "python",
      "pygments_lexer": "ipython3",
      "version": "3.8.8"
    }
  },
  "cells": [
    {
      "cell_type": "markdown",
      "metadata": {
        "id": "fWIND5CEM17X"
      },
      "source": [
        "# 1. Programmierung in Python3 -Grundlagen"
      ]
    },
    {
      "cell_type": "code",
      "source": [],
      "metadata": {
        "id": "vaQ8PGlCcAcm"
      },
      "execution_count": null,
      "outputs": []
    },
    {
      "cell_type": "markdown",
      "metadata": {
        "id": "NDJTkHtOM17Y"
      },
      "source": [
        "Python ist eine Programmiersprache, welche aufgrund Ihrer Einfachheit aber auch aufgrund der umfangreichen Community sehr erfolgreich ist. Aktuell belegt Python in diversen Programmiersprachenrankings die Plätze 1 bis 3 teils noch vor den großen Platzhirschen Java, C++, Swift und Javascript.\n",
        "\n",
        "Python erfreut sich hoher Beliebtheit im Umfeld des Data Mining und der Künstlichen Intelligenz, nicht zuletzt durch die Freigabe diverser Frameworks wie Tensorflow (von Google), Caffe2 (Facebook) oder Gym (OpenAI).\n",
        "Um Python oder auch andere Programmiersprachen ausführen zu können benötigt man einen Interpreter sowie eine IDE (Entwicklungsumgebung). Auf den PC´s der Hochschule ist daher das aktuelle Anaconda Paket (https://www.anaconda.com/what-is-anaconda/) installiert worden. Seit wenigen Jahren gibt es dewesweiteren eine komfortable und einfache Möglichkeit Programmiertes mit Kommentaren, Überschriften und Texten zu versehen. Dies wird als iPython (Interaktives Python) oder Jupyter Notebooks bezeichnet. Diese Datei ist ein solches Notebook. Die Texte, Überschriften und auch Programmzeilen können jederzeit verändert und nach einem Drücken des Run-Buttons neu kompiliert werden.\n",
        "\n",
        "\n",
        "In dem folgenden Notebook werden die wichtigsten Elemente aus Python 3.X behandelt, welche im Zusammenhang mit einem Feed-Forward-Neural Net benötigt werden. Aus Zeitgründen kann nicht auf alle Elemente umfassender bzw. auf nicht erwähnte Elemente darüberhinaus eingegangen werden. Diese können jedoch gerne in der in der Vorlesung erwähnten Literatur nachgeschlagen werden. Es ist spannend, was noch alles möglich ist. Z.B. mit pygame\n",
        "\n",
        "Aber fangen wir nun erst mal an. Frisch ans Werk!! Es lohnt sich und macht Spaß!"
      ]
    },
    {
      "cell_type": "markdown",
      "metadata": {
        "id": "k8qSAq0OM17Z"
      },
      "source": [
        "## 1.1 Erster Eindruck"
      ]
    },
    {
      "cell_type": "markdown",
      "source": [],
      "metadata": {
        "id": "ClTCS3KlALEz"
      }
    },
    {
      "cell_type": "code",
      "source": [],
      "metadata": {
        "id": "S9FzR8fmAKZr"
      },
      "execution_count": null,
      "outputs": []
    },
    {
      "cell_type": "code",
      "metadata": {
        "id": "suK4wmgXBO0P",
        "outputId": "a8171cb9-d381-4193-958f-fad5d7b39c4c",
        "colab": {
          "base_uri": "https://localhost:8080/"
        }
      },
      "source": [
        "\n",
        "print(\"Hello Data Scientists\")"
      ],
      "execution_count": null,
      "outputs": [
        {
          "output_type": "stream",
          "name": "stdout",
          "text": [
            "Hello Data Scientists\n"
          ]
        }
      ]
    },
    {
      "cell_type": "markdown",
      "metadata": {
        "id": "rgs37EDwBO0R"
      },
      "source": [
        "## 1.2 Mathematische Operatoren"
      ]
    },
    {
      "cell_type": "code",
      "metadata": {
        "id": "iACNBYSKM17Z",
        "outputId": "cdee1bec-fe32-4d98-b348-d446f688b024",
        "colab": {
          "base_uri": "https://localhost:8080/"
        }
      },
      "source": [
        "2+3"
      ],
      "execution_count": null,
      "outputs": [
        {
          "output_type": "execute_result",
          "data": {
            "text/plain": [
              "5"
            ]
          },
          "metadata": {},
          "execution_count": 4
        }
      ]
    },
    {
      "cell_type": "code",
      "metadata": {
        "id": "yFPRR6t-M17e",
        "outputId": "2a447383-b8ba-4fb5-ee94-c735f3632be9",
        "colab": {
          "base_uri": "https://localhost:8080/"
        }
      },
      "source": [
        "2*3"
      ],
      "execution_count": null,
      "outputs": [
        {
          "output_type": "execute_result",
          "data": {
            "text/plain": [
              "6"
            ]
          },
          "metadata": {},
          "execution_count": 5
        }
      ]
    },
    {
      "cell_type": "markdown",
      "metadata": {
        "id": "R2xBrM_qM17l"
      },
      "source": [
        "Verändern Sie die obigen Zellen, indem Sie die Werte ändern. Durch ein Drücken des Run-Buttons bzw. die Tastenkombination Strg+Enter wird diese Zeile ausgeführt.\n",
        "\n",
        "Sie können auch die Rechenoperatoren verändern. Folgende Operatoren stehen zur Auswahl:\n",
        "   1. +,-      Addition und Subtraktion (Bsp.: 10+3-2)\n",
        "   2. Stern,%  Multiplikation und Rest (27%7 Ergebnis=6)\n",
        "   3. /        Division         (10/3=3,333333)\n",
        "   4. //       Ganzzahldivision (10//3 =3)\n",
        "\n",
        "\n",
        "Eine Anweisung wie in den Zeilen 1, 2 oder 3 nennt man auch Instruktionen."
      ]
    },
    {
      "cell_type": "code",
      "metadata": {
        "id": "1kY6DNlxBO0U",
        "outputId": "9037b24a-5abc-44ff-86f0-c92e218e9de6",
        "colab": {
          "base_uri": "https://localhost:8080/"
        }
      },
      "source": [
        "27/4"
      ],
      "execution_count": null,
      "outputs": [
        {
          "output_type": "execute_result",
          "data": {
            "text/plain": [
              "6.75"
            ]
          },
          "metadata": {},
          "execution_count": 6
        }
      ]
    },
    {
      "cell_type": "code",
      "metadata": {
        "id": "mwfD2F1WBO0V",
        "outputId": "ad99213c-1920-459a-94f5-7a3d487a2ea7",
        "colab": {
          "base_uri": "https://localhost:8080/"
        }
      },
      "source": [
        "27//4"
      ],
      "execution_count": null,
      "outputs": [
        {
          "output_type": "execute_result",
          "data": {
            "text/plain": [
              "6"
            ]
          },
          "metadata": {},
          "execution_count": 7
        }
      ]
    },
    {
      "cell_type": "code",
      "metadata": {
        "id": "MZxrEM3HBO0W",
        "outputId": "df7732e9-57ce-49f9-99eb-2f3146ea56ea",
        "colab": {
          "base_uri": "https://localhost:8080/"
        }
      },
      "source": [
        "27%4\n",
        "27/4\n",
        "27//4"
      ],
      "execution_count": null,
      "outputs": [
        {
          "output_type": "execute_result",
          "data": {
            "text/plain": [
              "6"
            ]
          },
          "metadata": {},
          "execution_count": 11
        }
      ]
    },
    {
      "cell_type": "markdown",
      "source": [
        "Da immer nur die letzte Zeile ausgegeben wird,\n",
        "\n",
        "\n",
        "```\n",
        "27%4\n",
        "27/4\n",
        "27//4\n",
        "```\n",
        "\n",
        "\n",
        "\n",
        "\n",
        "ich aber gerne alle sehen möchte, kann ich das mittels des Print-Befehls umsetzen.\n",
        "\n",
        "\n",
        "\n",
        "```\n",
        "print(27%4)\n",
        "print(27/4)\n",
        "print(27//4)\n",
        "```\n",
        "\n"
      ],
      "metadata": {
        "id": "xwaymk03_Ldb"
      }
    },
    {
      "cell_type": "code",
      "metadata": {
        "id": "MW2KaXp_BO0W",
        "outputId": "1270b33f-5369-4c6b-dff5-16cd5fa44eb9"
      },
      "source": [
        "print(2**2)\n",
        "print(2**3)\n",
        "print(2**4)"
      ],
      "execution_count": null,
      "outputs": [
        {
          "output_type": "stream",
          "text": [
            "4\n",
            "8\n",
            "16\n"
          ],
          "name": "stdout"
        }
      ]
    },
    {
      "cell_type": "markdown",
      "metadata": {
        "id": "inMDbab7M18B"
      },
      "source": [
        "## 1.3 Kommentare"
      ]
    },
    {
      "cell_type": "code",
      "metadata": {
        "id": "14t8vGVUM18E",
        "outputId": "6e61e10e-4a8c-45a3-cec1-3d36d099e92d",
        "colab": {
          "base_uri": "https://localhost:8080/"
        }
      },
      "source": [
        "# Im Folgenden wird zwei quadriert\n",
        "print(2**2)"
      ],
      "execution_count": null,
      "outputs": [
        {
          "output_type": "stream",
          "name": "stdout",
          "text": [
            "4\n"
          ]
        }
      ]
    },
    {
      "cell_type": "markdown",
      "metadata": {
        "id": "Qg0b3sBEM17m"
      },
      "source": [
        "## 1.4 Variablen"
      ]
    },
    {
      "cell_type": "code",
      "metadata": {
        "id": "z7RMD-35M17n",
        "outputId": "590c2733-560f-454b-a13b-58dcd8bf629a",
        "colab": {
          "base_uri": "https://localhost:8080/",
          "height": 346
        }
      },
      "source": [
        "x= \"Ich bin ein x\" #diese Variable wurde eben deklariert und als String in den Arbeitsspeicher gebracht\n",
        "print(x)\n",
        "print(type(x))\n",
        "x = 10  # jetzt wird x von string zu Integer (Ganzzahlwert)\n",
        "print(x)\n",
        "print(type(x))\n",
        "x=10.512312\n",
        "print(x)\n",
        "print(type(x))\n",
        "print(x+5)\n",
        "y = x+7\n",
        "print(y)\n",
        "print(z)\n"
      ],
      "execution_count": null,
      "outputs": [
        {
          "output_type": "stream",
          "name": "stdout",
          "text": [
            "Ich bin ein x\n",
            "<class 'str'>\n",
            "10\n",
            "<class 'int'>\n",
            "10.512312\n",
            "<class 'float'>\n",
            "15.512312\n",
            "17.512312\n"
          ]
        },
        {
          "output_type": "error",
          "ename": "NameError",
          "evalue": "ignored",
          "traceback": [
            "\u001b[0;31m---------------------------------------------------------------------------\u001b[0m",
            "\u001b[0;31mNameError\u001b[0m                                 Traceback (most recent call last)",
            "\u001b[0;32m<ipython-input-2-9088616c3b7e>\u001b[0m in \u001b[0;36m<module>\u001b[0;34m\u001b[0m\n\u001b[1;32m     11\u001b[0m \u001b[0my\u001b[0m \u001b[0;34m=\u001b[0m \u001b[0mx\u001b[0m\u001b[0;34m+\u001b[0m\u001b[0;36m7\u001b[0m\u001b[0;34m\u001b[0m\u001b[0;34m\u001b[0m\u001b[0m\n\u001b[1;32m     12\u001b[0m \u001b[0mprint\u001b[0m\u001b[0;34m(\u001b[0m\u001b[0my\u001b[0m\u001b[0;34m)\u001b[0m\u001b[0;34m\u001b[0m\u001b[0;34m\u001b[0m\u001b[0m\n\u001b[0;32m---> 13\u001b[0;31m \u001b[0mprint\u001b[0m\u001b[0;34m(\u001b[0m\u001b[0mz\u001b[0m\u001b[0;34m)\u001b[0m\u001b[0;34m\u001b[0m\u001b[0;34m\u001b[0m\u001b[0m\n\u001b[0m",
            "\u001b[0;31mNameError\u001b[0m: name 'z' is not defined"
          ]
        }
      ]
    },
    {
      "cell_type": "code",
      "metadata": {
        "id": "gOEwkSplBO0Z",
        "outputId": "aadd0ffa-e42c-4527-b4c9-3ab418fd8327",
        "colab": {
          "base_uri": "https://localhost:8080/"
        }
      },
      "source": [
        "elefantengehege=3.4\n",
        "print(elefantengehege)\n",
        "print(type(elefantengehege))"
      ],
      "execution_count": null,
      "outputs": [
        {
          "output_type": "stream",
          "name": "stdout",
          "text": [
            "3.4\n",
            "<class 'float'>\n"
          ]
        }
      ]
    },
    {
      "cell_type": "code",
      "metadata": {
        "id": "QQ0ynnFVBO0a",
        "outputId": "5d83772e-a5df-4460-988d-2febd0c154c0",
        "colab": {
          "base_uri": "https://localhost:8080/"
        }
      },
      "source": [
        "littleprincess=\"Hallo\"\n",
        "print(littleprincess)\n",
        "print(type(littleprincess))"
      ],
      "execution_count": null,
      "outputs": [
        {
          "output_type": "stream",
          "name": "stdout",
          "text": [
            "Hallo\n",
            "<class 'str'>\n"
          ]
        }
      ]
    },
    {
      "cell_type": "code",
      "metadata": {
        "id": "ET2LcyNWBO0a",
        "outputId": "f6d5056f-7601-47c8-f5ea-44b0369b27a5",
        "colab": {
          "base_uri": "https://localhost:8080/",
          "height": 221
        }
      },
      "source": [
        "#Boolean-Werte werden in z.B. in einer Fallunterscheidung genutzt und nicht wie hier direkt deklariert.\n",
        "wahrfalsch=true\n",
        "print(wahrfalsch)\n",
        "print(type(wahrfalsch))"
      ],
      "execution_count": null,
      "outputs": [
        {
          "output_type": "error",
          "ename": "NameError",
          "evalue": "ignored",
          "traceback": [
            "\u001b[0;31m---------------------------------------------------------------------------\u001b[0m",
            "\u001b[0;31mNameError\u001b[0m                                 Traceback (most recent call last)",
            "\u001b[0;32m<ipython-input-8-c569834b4694>\u001b[0m in \u001b[0;36m<module>\u001b[0;34m\u001b[0m\n\u001b[1;32m      1\u001b[0m \u001b[0;31m#Boolean-Werte werden in z.B. in einer Fallunterscheidung genutzt und nicht wie hier direkt deklariert.\u001b[0m\u001b[0;34m\u001b[0m\u001b[0;34m\u001b[0m\u001b[0;34m\u001b[0m\u001b[0m\n\u001b[0;32m----> 2\u001b[0;31m \u001b[0mwahrfalsch\u001b[0m\u001b[0;34m=\u001b[0m\u001b[0mtrue\u001b[0m\u001b[0;34m\u001b[0m\u001b[0;34m\u001b[0m\u001b[0m\n\u001b[0m\u001b[1;32m      3\u001b[0m \u001b[0mprint\u001b[0m\u001b[0;34m(\u001b[0m\u001b[0mwahrfalsch\u001b[0m\u001b[0;34m)\u001b[0m\u001b[0;34m\u001b[0m\u001b[0;34m\u001b[0m\u001b[0m\n\u001b[1;32m      4\u001b[0m \u001b[0mprint\u001b[0m\u001b[0;34m(\u001b[0m\u001b[0mtype\u001b[0m\u001b[0;34m(\u001b[0m\u001b[0mwahrfalsch\u001b[0m\u001b[0;34m)\u001b[0m\u001b[0;34m)\u001b[0m\u001b[0;34m\u001b[0m\u001b[0;34m\u001b[0m\u001b[0m\n",
            "\u001b[0;31mNameError\u001b[0m: name 'true' is not defined"
          ]
        }
      ]
    },
    {
      "cell_type": "markdown",
      "metadata": {
        "id": "_-jZ1o4hM17q"
      },
      "source": [
        "In der 4. Zeile haben wir nun ein Beispiel für sogenannte Variablen. D.h. wir haben eine Zahl (bsp. 10) für später gespeichert und dies in x hinterlegt. x ist dabei eine Variable die nicht vorab definiert werden muß (in den meisten anderen Programmiersprachen muss zwingend vorab die Variable entweder einem Textwert, Zahlenwert und so weiter zugewiesen werden).\n",
        "\n",
        "Frage:\n",
        "Warum kam folgender Fehlerausdruck wie oben zu sehen zustande?"
      ]
    },
    {
      "cell_type": "markdown",
      "metadata": {
        "id": "b5dL2WJJBO0b"
      },
      "source": [
        "## 1.5 Listen und Tupeln\n",
        "Listen, Tupeln und Matrizen dienen der Sequenzierung von Objekten. Inhalte von Listen (dargestellt durch eckige Klammern [..]) und Tupeln (dargestellt durch runde Klammern (..)) ist, dass Tupeln unveränderbare Inhalte haben, während die Inhalte in Listen veränderlich sind. Dadurch haben Tupeln eine höhere Datensicherheit bzgl. deren Variableninhalte."
      ]
    },
    {
      "cell_type": "code",
      "metadata": {
        "id": "PYdoUH-MM17r",
        "outputId": "97e4014b-6758-496b-ae82-04c1ef4aff01",
        "colab": {
          "base_uri": "https://localhost:8080/"
        }
      },
      "source": [
        "list(range(10))"
      ],
      "execution_count": null,
      "outputs": [
        {
          "output_type": "execute_result",
          "data": {
            "text/plain": [
              "[0, 1, 2, 3, 4, 5, 6, 7, 8, 9]"
            ]
          },
          "metadata": {},
          "execution_count": 9
        }
      ]
    },
    {
      "cell_type": "code",
      "metadata": {
        "id": "Y6rpbLdlBO0c",
        "outputId": "f4547244-08b1-49b4-8471-8681284c6f08",
        "colab": {
          "base_uri": "https://localhost:8080/"
        }
      },
      "source": [
        "meine_liste=[1,2,3,4,\"Zelda\",2,\"Hallo DATA\"]\n",
        "print(meine_liste)"
      ],
      "execution_count": null,
      "outputs": [
        {
          "output_type": "stream",
          "name": "stdout",
          "text": [
            "[1, 2, 3, 4, 'Zelda', 2, 'Hallo DATA']\n"
          ]
        }
      ]
    },
    {
      "cell_type": "code",
      "metadata": {
        "id": "itrBTPg7BO0c",
        "outputId": "bfee85c8-c69a-4fa2-a2e2-6b06f6d17d32",
        "colab": {
          "base_uri": "https://localhost:8080/"
        }
      },
      "source": [
        "meine_tupel_in_datascience=(1,2,3,2,1,2)\n",
        "print(meine_tupel_in_datascience)"
      ],
      "execution_count": null,
      "outputs": [
        {
          "output_type": "stream",
          "name": "stdout",
          "text": [
            "(1, 2, 3, 2, 1, 2)\n"
          ]
        }
      ]
    },
    {
      "cell_type": "markdown",
      "metadata": {
        "id": "vlpYKYzRM17v"
      },
      "source": [
        "In Zeile 5 haben wir nun eine Liste (oder eindimensionale Tabelle) mit 10 Platzhaltern. Computer sind 0-basiert, daher beginnt die Liste bei 0 und nicht wie für uns üblich bei 1."
      ]
    },
    {
      "cell_type": "markdown",
      "metadata": {
        "id": "xLvMPsAWOjIX"
      },
      "source": [
        "Hier ein paar Beispiel wie die Listen aussehen können und das verschiedene Konstellationen an Datentypen und Mischungen möglich sind."
      ]
    },
    {
      "cell_type": "code",
      "metadata": {
        "colab": {
          "base_uri": "https://localhost:8080/"
        },
        "id": "vyGjIYZ0M71A",
        "outputId": "3e1441fd-1b8e-4d16-f40f-59a63cbe3876"
      },
      "source": [
        "#Liste mit Zahlen. Dabei sind die Zahlen in den eckigen Klammern bereits der Inhalt der Liste\n",
        "liste_mit_ganzen_Zahlen = [1,2,3,4,5]\n",
        "#Liste mit drei Textwerten\n",
        "liste_mit_strings = [\"Nürtingen\", \"Stuttgart\", \"München\"]\n",
        "#Liste mit unterschiedlichen Datentypen in der Liste\n",
        "liste_mit_gemischten_datentypen = [1,\"Nürtingen\", 1.32]\n",
        "#Ausgabe des zweiten Datensatzes aus der benannten Liste (0 wäre Platz 1, 1 ist Platz 2)\n",
        "print(liste_mit_gemischten_datentypen[1])\n",
        "#Ausgabe der Länge der Liste. Praktisch wenn man mittels Schleife alle Datensätze einer Liste ansprechen möchte\n",
        "print(len(liste_mit_gemischten_datentypen))\n",
        "#Ausgabe des dritten Datensatzes aus der benannten Liste (0 wäre Platz 1, 1 ist Platz 2)\n",
        "liste_mit_gemischten_datentypen[2] #Es wird der dritte Datensatz dieser Liste ausgegeben (Merke: 0 = 1. Datensatz, 1 = 2. Datensatz, Datenplatz Nummer 2 der Liste = 3. Datensatz der Liste)"
      ],
      "execution_count": null,
      "outputs": [
        {
          "output_type": "stream",
          "name": "stdout",
          "text": [
            "Nürtingen\n",
            "3\n"
          ]
        },
        {
          "output_type": "execute_result",
          "data": {
            "text/plain": [
              "1.32"
            ]
          },
          "metadata": {},
          "execution_count": 17
        }
      ]
    },
    {
      "cell_type": "markdown",
      "metadata": {
        "id": "5pZ1CEWLBO0d"
      },
      "source": [
        "In Listen gibt es diverse Befehle, welche es erleichtern damit zu arbeiten."
      ]
    },
    {
      "cell_type": "code",
      "metadata": {
        "id": "vTDg7Y3bBO0e",
        "outputId": "1c3419a4-674c-4ad1-a465-6a9777497f5e",
        "colab": {
          "base_uri": "https://localhost:8080/"
        }
      },
      "source": [
        "# Elemente entfernen\n",
        "liste_obst=[\"Apfel\",\"Banane\",\"Erdbeere\",\"Brokkoli\"]\n",
        "#in der obigen Liste hat sich ein Gemüse eingeschlichen, dies wollen wir entfernen\n",
        "letztes_element=liste_obst.pop()\n",
        "print(letztes_element)\n",
        "print(liste_obst)\n",
        "vorletztes_element=liste_obst.pop()\n",
        "print(vorletztes_element)\n",
        "print(liste_obst)"
      ],
      "execution_count": null,
      "outputs": [
        {
          "output_type": "stream",
          "name": "stdout",
          "text": [
            "Brokkoli\n",
            "['Apfel', 'Banane', 'Erdbeere']\n",
            "Erdbeere\n",
            "['Apfel', 'Banane']\n"
          ]
        }
      ]
    },
    {
      "cell_type": "code",
      "metadata": {
        "id": "k880ONMKBO0e",
        "outputId": "c9750d8a-5ae7-466e-e9a1-4593d333de14",
        "colab": {
          "base_uri": "https://localhost:8080/"
        }
      },
      "source": [
        "#Listen aneinanderhängen\n",
        "liste_obst=[\"Apfel\",\"Banane\",\"Erdbeere\"]+[\"Pfirsich\",\"Mango\"]\n",
        "print(liste_obst)"
      ],
      "execution_count": null,
      "outputs": [
        {
          "output_type": "stream",
          "name": "stdout",
          "text": [
            "['Apfel', 'Banane', 'Erdbeere', 'Pfirsich', 'Mango']\n"
          ]
        }
      ]
    },
    {
      "cell_type": "code",
      "metadata": {
        "id": "BLagt-Y1BO0e",
        "outputId": "d1ed9d6e-c577-4489-84ef-973d98bb55c8",
        "colab": {
          "base_uri": "https://localhost:8080/"
        }
      },
      "source": [
        "#gezielt ein Element entfernen. Hier wird ein Element per Index entfernt\n",
        "print(liste_obst)\n",
        "del liste_obst[2]\n",
        "print(liste_obst)\n",
        "#wenn man nicht per Index, sondern per Eintragsinhalt ein Element entfernen möchte...\n",
        "liste_obst.remove(\"Apfel\")\n",
        "print(liste_obst)"
      ],
      "execution_count": null,
      "outputs": [
        {
          "output_type": "stream",
          "name": "stdout",
          "text": [
            "['Apfel', 'Banane', 'Erdbeere', 'Pfirsich', 'Mango']\n",
            "['Apfel', 'Banane', 'Pfirsich', 'Mango']\n",
            "['Banane', 'Pfirsich', 'Mango']\n"
          ]
        }
      ]
    },
    {
      "cell_type": "markdown",
      "metadata": {
        "id": "8uL0VYe6BO0f"
      },
      "source": [
        "## 1.5.1 List Slicing"
      ]
    },
    {
      "cell_type": "code",
      "metadata": {
        "id": "8pIrRcksBO0f",
        "outputId": "ef4764f2-b7bc-4667-f5c1-098414a34d32",
        "colab": {
          "base_uri": "https://localhost:8080/"
        }
      },
      "source": [
        "#Gezielt ein Element ansprechen. Und Teilliste ausgeben = \"List Slicing\"\n",
        "liste_obst=[\"Apfel\",\"Banane\",\"Erdbeere\",\"Pfirsich\"]\n",
        "print(liste_obst)\n",
        "#ein gewisses Element ansprechen\n",
        "print(\"Element an zweiter Stelle:\",liste_obst[1])\n",
        "#genau das letzte Element ansprechen\n",
        "print(liste_obst[-1])\n",
        "#List Slicing. Eine Teilliste ausgeben. Also z.B. nur das 2. bis zum 3. Element in einer Teilliste ausgeben\n",
        "#gib alles ausser dem ersten Eintrag aus\n",
        "print(liste_obst[1:])\n",
        "#beginne bei Eintrag 1 (also die 0 auslassen) und stoppe vor Eintrag 3\n",
        "print(liste_obst[1:3])\n",
        "#beginne bei Eintrag 1 (also die 0 auslassen) und ignoriere das letzte Element (dies kann mittels negativem Indize erreicht werden)\n",
        "print(liste_obst[1:-2])\n",
        "#Slicing ist auch bei Strings möglich um nur gewissen Zeichen eines Satzes auszugeben\n",
        "print(\"Hallo Data Science\"[0:2])\n",
        "# oder dieses Beispiel\n",
        "print(\"Hallo Data Science\"[-12:])"
      ],
      "execution_count": null,
      "outputs": [
        {
          "output_type": "stream",
          "name": "stdout",
          "text": [
            "['Apfel', 'Banane', 'Erdbeere', 'Pfirsich']\n",
            "Element an zweiter Stelle: Banane\n",
            "Pfirsich\n",
            "['Banane', 'Erdbeere', 'Pfirsich']\n",
            "['Banane', 'Erdbeere']\n",
            "['Banane']\n",
            "Ha\n",
            "Data Science\n"
          ]
        }
      ]
    },
    {
      "cell_type": "markdown",
      "metadata": {
        "id": "HiaZZ1NdBO0g"
      },
      "source": [
        "## 1.6 Dictionaries"
      ]
    },
    {
      "cell_type": "code",
      "metadata": {
        "id": "OrcbAKQ0BO0g",
        "outputId": "fe9078a9-f245-48a4-91e6-f589955e11a3",
        "colab": {
          "base_uri": "https://localhost:8080/"
        }
      },
      "source": [
        "#Erste Liste mit Obst\n",
        "obst=[\"Apfel\",\"Banane\",\"Erdbeere\",\"Pfirsich\"]\n",
        "#zweite Liste mit Preisen\n",
        "preis=[1,2,3,10]\n",
        "\n",
        "# erstelle einen Dictionary mit einem key und einem value-Wert wie folgt dict{(key,value)}. Ein key-Wert ist stets einzigartig in einem Dictionary\n",
        "preisliste_obst={\"Apfel\":1,\"Banane\":2,\"Erdbeere\":3,\"Pfirsich\":10}\n",
        "print(preisliste_obst)\n",
        "print(len(preisliste_obst))\n",
        "\n",
        "\n",
        "#hinzufügen neuer Werte mit dem Befehl update\n",
        "preisliste_obst.update({\"Birne\":10})\n",
        "#oder so\n",
        "preisliste_obst[\"Traube\"]=16\n",
        "print(preisliste_obst)\n",
        "#die Traube wieder entfernen\n",
        "preisliste_obst.pop(\"Traube\")\n",
        "print(preisliste_obst)\n",
        "\n",
        "#Keys ausgeben\n",
        "for k in preisliste_obst.keys():\n",
        "    print(k)\n",
        "print(\"\\n\")\n",
        "#Werte ausgeben\n",
        "for v in preisliste_obst.values():\n",
        "    print(v)\n",
        "print(\"\\n\")\n",
        "#Inhalte werden ausgegeben. Hier werden diese Werte (keys und values) zunächst als Tupel (nicht veränderbare Abfolge von Elementen) ausgegeben\n",
        "for it in preisliste_obst.items():\n",
        "    print(it)\n",
        "print(\"\\n\")\n",
        "#Inhalte werden ausgegeben. Für k werden hier jedoch die keys ausgegeben und für v die values. Also so wie es wohl erwartet wurde\n",
        "for k,v in preisliste_obst.items():\n",
        "    print(k,v)\n",
        "print(\"\\n\")\n",
        "# Contains. Ist ein Key in einem Dictionary?\n",
        "if \"Birne\" in preisliste_obst:\n",
        "    print(\"Ja, die Birne ist vorhanden\")\n",
        "else:\n",
        "    print(\"Nein, die Birne ist nicht in dem Dictionary\")\n"
      ],
      "execution_count": null,
      "outputs": [
        {
          "output_type": "stream",
          "name": "stdout",
          "text": [
            "{'Apfel': 1, 'Banane': 2, 'Erdbeere': 3, 'Pfirsich': 10}\n",
            "4\n",
            "{'Apfel': 1, 'Banane': 2, 'Erdbeere': 3, 'Pfirsich': 10, 'Birne': 10, 'Traube': 16}\n",
            "{'Apfel': 1, 'Banane': 2, 'Erdbeere': 3, 'Pfirsich': 10, 'Birne': 10}\n",
            "Apfel\n",
            "Banane\n",
            "Erdbeere\n",
            "Pfirsich\n",
            "Birne\n",
            "\n",
            "\n",
            "1\n",
            "2\n",
            "3\n",
            "10\n",
            "10\n",
            "\n",
            "\n",
            "('Apfel', 1)\n",
            "('Banane', 2)\n",
            "('Erdbeere', 3)\n",
            "('Pfirsich', 10)\n",
            "('Birne', 10)\n",
            "\n",
            "\n",
            "Apfel 1\n",
            "Banane 2\n",
            "Erdbeere 3\n",
            "Pfirsich 10\n",
            "Birne 10\n",
            "\n",
            "\n",
            "Ja, die Birne ist vorhanden\n"
          ]
        }
      ]
    },
    {
      "cell_type": "markdown",
      "metadata": {
        "id": "VlX-RV7-M17w"
      },
      "source": [
        "## 1.7 Kontrollstrukturen"
      ]
    },
    {
      "cell_type": "markdown",
      "metadata": {
        "id": "4J3KsOi8M17x"
      },
      "source": [
        "Kontrollstrukturen erweitern ein Programm um Sonderfallabfragen oder Schleifen. Sonderfallabfragen auch bekannt als If-Then-Else bw. Switches bieten die Möglichkeit sich für eine Weggabelung zu entscheiden. Bsp. Sollte der Studierende mehr als 40 Punkte erreicht haben, hat er bestanden. Bei weniger als 40 Punkten hat er nicht bestanden. Dies ist ein klassischer If-Then-Else-Fall.\n",
        "\n",
        "Um dies umzusetzen benötigt das Programm einen Vergleichsoperator\n",
        "== heißt \"ist gleich\", weitere sehen wie folgt aus: <, <=, >, >=, !=\n"
      ]
    },
    {
      "cell_type": "markdown",
      "metadata": {
        "id": "FmaO_Qh1M17y"
      },
      "source": [
        "### 1.7.1 bedingte Anweisung (If-Then-Else)"
      ]
    },
    {
      "cell_type": "code",
      "metadata": {
        "id": "WTLHfbrQM17y",
        "outputId": "b3edebc7-1f36-4922-bf7a-301646cec408",
        "colab": {
          "base_uri": "https://localhost:8080/"
        }
      },
      "source": [
        "babyelefant = input(\"Nationalität?\")\n",
        "if babyelefant == \"french\" or babyelefant == \"French\" or babyelefant==\"fresh\":\n",
        "\tprint(\"Préférez-vous parler français?\")\n",
        "elif babyelefant == \"italian\" or babyelefant == \"Italian\":\n",
        "\tprint(\"Preferisci parlare italiano?\")\n",
        "elif babyelefant == \"spanisch\" or babyelefant == \"Spanisch\":\n",
        "\tprint(\"Preferisci parlare spanisch?\")\n",
        "else:\n",
        "\tprint(\"Du bist weder Italiener noch Franzose.\")\n",
        "\tprint(\"Deshalb reden wir jetzt deutsch!\")\n",
        "\n",
        "print(\"Ich habe fertig, und zwar die Nudeln\")"
      ],
      "execution_count": null,
      "outputs": [
        {
          "output_type": "stream",
          "name": "stdout",
          "text": [
            "Nationalität?french\n",
            "Préférez-vous parler français?\n",
            "Ich habe fertig, und zwar die Nudeln\n"
          ]
        }
      ]
    },
    {
      "cell_type": "markdown",
      "metadata": {
        "id": "aEia68aqM172"
      },
      "source": [
        "Obige Form ist die umfassendste Form einer bedingten If-Then-Else-Anweisung.\n",
        "1. Wichtig ist zunächst das Einrücken der Instruktionen also der Anweisungen zu beachten, welche ausgeführt werden soll, sollte der Fall eintreten. Ist diese Anweisung nicht eingerückt kann es zu Fehlern kommen.\n",
        "2. Desweiteren sieht man nun hier die Vergleichsoperatoren mit zweimal == womit die abgefragte Variable mit dem festen Wert verglichen wird. Gibt man nun also deutsch ein, so wird dies in der zweiten Zeile mit french und French verglichen. Da es nicht zutrifft überspringt Python hier die Print-Instruktion.\n",
        "3. Mit elif können mehrere weitere Verzweigungen eröffnet werden, was sehr praktisch ist. Sollte auch dieser elif nicht zutreffen so wird man unweigerlich bei else landen und die darin enthaltenen Instruktionen werden sequentiell ausgeführt."
      ]
    },
    {
      "cell_type": "markdown",
      "metadata": {
        "id": "3BAfWiufBO0j"
      },
      "source": [
        "#### Aufgabe:\n",
        "Fragen Sie einen Inputwert ab. Dieser Inputwert soll sowohl als String wie auch als Integer funktionieren. D.h. Sie können mit der Funktion ich_bin_ein_integerwert=int(<variablenname>) die Variable  ich_bin_ein_integerwert als Integer formatieren und dabei den Wert aus <variablenname> übernehmen. Manchmal klappt es nicht, da ein wahrer Textwert wie z.B. \"Hallo\" einen error ausgibt. Suchen Sie mittels der Google-Suche nach der passenden Lösung."
      ]
    },
    {
      "cell_type": "code",
      "metadata": {
        "id": "Ko3obWkpBO0j",
        "outputId": "72a070da-8b5d-41c1-a1d3-d5953cd92276",
        "colab": {
          "base_uri": "https://localhost:8080/"
        }
      },
      "source": [
        "# Lösung:\n",
        "\n",
        "#Erstellen Sie eine Abfrage für die Variable eingabe_int.\n",
        "# Sollte der übernomme Wert aus eingabe nicht als Int valide sein, so tragen Sie eine 0 ein.\n",
        "\n",
        "# 1. Nur EINEN Inputwert annehmen.\n",
        "eingabe=input()\n",
        "\n",
        "# 2. Sollte dieser nicht als Integer funktionieren, dann wird für eingabe_int=0 übernommen.\n",
        "#    Herausgefunden per GoogleSuche: python3, input int error -->stackoverflow-Antworten prüfen und versuchen...\n",
        "try:\n",
        "    eingabe_int=int(eingabe)\n",
        "except ValueError:\n",
        "    eingabe_int=0\n",
        "\n",
        "\n",
        "# 3. In einer If Then Else-Abfrage beide Variablen verwenden. War nicht Teil der Aufgabe. Dient der Erklärung.\n",
        "#    HINWEIS: Vergleichsoperatoren: ==  !=  <=  >=\n",
        "if eingabe_int>=9 and eingabe_int <=11 or eingabe == \"sonnig\" or eingabe==\"wolkig\":\n",
        "    print(\"If-Ausgabe erfolgreich\")\n",
        "    print(\"String-Ausgabe für die Variable eingabe: \",eingabe, type(eingabe))\n",
        "    print(\"Integer-Ausgabe für die Variable eingabe_int: \",eingabe_int, type(eingabe_int))\n",
        "else:\n",
        "    print(\"Else-Ausgabe erfolgreich\")\n",
        "    print(\"String-Ausgabe für die Variable eingabe: \",eingabe, type(eingabe))\n",
        "    print(\"Integer-Ausgabe für die Variable eingabe_int: \",eingabe_int, type(eingabe_int))"
      ],
      "execution_count": null,
      "outputs": [
        {
          "output_type": "stream",
          "name": "stdout",
          "text": [
            "tet\n",
            "Else-Ausgabe erfolgreich\n",
            "String-Ausgabe für die Variable eingabe:  tet <class 'str'>\n",
            "Integer-Ausgabe für die Variable eingabe_int:  0 <class 'int'>\n"
          ]
        }
      ]
    },
    {
      "cell_type": "markdown",
      "metadata": {
        "id": "TxuDY9yFM172"
      },
      "source": [
        "### 1.7.2 Schleifen (For-Schleife)"
      ]
    },
    {
      "cell_type": "markdown",
      "metadata": {
        "id": "U7wazFU8M173"
      },
      "source": [
        "Damit der Computer wiederholt Dinge ausführen kann werden spezielle Codestrukturen genutzt. Sogenannte Schleifen. Der Name deutet bereits an, dass sich hier etwas wiederholt, unter Umständen endlos (was auch zum Absturz eines Programms führen kann, weswegen man vorsichtig im Umgang mit Schleifen sein sollte).\n",
        "\n",
        "Hier ein Beispiel für eine Schleife:"
      ]
    },
    {
      "cell_type": "code",
      "metadata": {
        "id": "sYdDmccwM175",
        "outputId": "436fe6d6-a77c-48ed-fcc7-f4f3dbcff24a",
        "colab": {
          "base_uri": "https://localhost:8080/"
        }
      },
      "source": [
        "for n in range(10):\n",
        "         print(n)\n",
        "         pass\n",
        "print(\"Katzenklo\")"
      ],
      "execution_count": null,
      "outputs": [
        {
          "output_type": "stream",
          "name": "stdout",
          "text": [
            "0\n",
            "1\n",
            "2\n",
            "3\n",
            "4\n",
            "5\n",
            "6\n",
            "7\n",
            "8\n",
            "9\n",
            "Katzenklo\n"
          ]
        }
      ]
    },
    {
      "cell_type": "markdown",
      "metadata": {
        "id": "FyMmLFvbM179"
      },
      "source": [
        "In dieser Zeile sehen wir nun den bereits bekannten Ausdruck range(10). Range ist eine Funktion welche einer arithmetischen Aufzählung entspricht, wie vorab schon gesehen.\n",
        "\n",
        "#### Aufgabe:\n",
        "Ändern Sie den Ausdruck auf range(4,10). Was ändert sich?\n",
        "\n",
        "-range(begin,end) kann wie man sieht, ebenfalls besonders im Zusammenhang mit For-Schleifen sehr effizient sein.\n",
        "\n",
        "Ebenso neu in dem obigen Ausdruck ist, dass wir nun print(n) stellen. Das heißt, dass von 0-9 stets die aktuelle Vergleichszahl beginnend bei 0 ausgegeben wird.\n",
        "\n",
        "Weiteres Beispiel:"
      ]
    },
    {
      "cell_type": "code",
      "metadata": {
        "id": "7e_-TLM9M17-",
        "scrolled": true,
        "outputId": "2ca6bf8f-3c15-4641-8387-2b7eb01b5d62",
        "colab": {
          "base_uri": "https://localhost:8080/"
        }
      },
      "source": [
        "for n in range(10):\n",
        "    print(\"The square of\", n, \"is\", n*n)\n",
        "    pass\n",
        "print(\"done\")"
      ],
      "execution_count": null,
      "outputs": [
        {
          "output_type": "stream",
          "name": "stdout",
          "text": [
            "The square of 0 is 0\n",
            "The square of 1 is 1\n",
            "The square of 2 is 4\n",
            "The square of 3 is 9\n",
            "The square of 4 is 16\n",
            "The square of 5 is 25\n",
            "The square of 6 is 36\n",
            "The square of 7 is 49\n",
            "The square of 8 is 64\n",
            "The square of 9 is 81\n",
            "done\n"
          ]
        }
      ]
    },
    {
      "cell_type": "code",
      "source": [
        "land = input(\"Welches Land soll gewinnen?\")\n",
        "if land == \"Marokko\":\n",
        "  zaehler=11\n",
        "  for n in range(1,zaehler):\n",
        "      print(\"Und nun fällt Tor Nummer \", n, \" für Marokko\")\n",
        "  pass\n",
        "elif land == \"Frankreich\":\n",
        "  zaehler=6\n",
        "  for n in range(zaehler):\n",
        "    if n>=1:\n",
        "      print(\"Und nun fällt Tor Nummer \", n, \" für Frankreich\")\n",
        "    pass\n",
        "else:\n",
        "  print(\"Ne,\",land, \" kann kein Fussball spielen, nur Softball\")\n"
      ],
      "metadata": {
        "colab": {
          "base_uri": "https://localhost:8080/",
          "height": 226
        },
        "id": "yYnXHN9YrPjW",
        "outputId": "a1f71589-b0d7-49f5-b7c3-c48db1b23790"
      },
      "execution_count": null,
      "outputs": [
        {
          "output_type": "stream",
          "name": "stdout",
          "text": [
            "Welches Land soll gewinnen?Marokko\n",
            "Und nun fällt Tor Nummer  1  für Marokko\n",
            "Und nun fällt Tor Nummer  2  für Marokko\n",
            "Und nun fällt Tor Nummer  3  für Marokko\n",
            "Und nun fällt Tor Nummer  4  für Marokko\n",
            "Und nun fällt Tor Nummer  5  für Marokko\n",
            "Und nun fällt Tor Nummer  6  für Marokko\n",
            "Und nun fällt Tor Nummer  7  für Marokko\n",
            "Und nun fällt Tor Nummer  8  für Marokko\n",
            "Und nun fällt Tor Nummer  9  für Marokko\n",
            "Und nun fällt Tor Nummer  10  für Marokko\n"
          ]
        },
        {
          "output_type": "execute_result",
          "data": {
            "text/plain": [
              "'Weltmeister wird Marokko'"
            ],
            "application/vnd.google.colaboratory.intrinsic+json": {
              "type": "string"
            }
          },
          "metadata": {},
          "execution_count": 27
        }
      ]
    },
    {
      "cell_type": "code",
      "source": [
        "def weltmeister():\n",
        "  land = input(\"Welches Land soll gewinnen?\")\n",
        "  if land == \"Marokko\":\n",
        "    zaehler=11\n",
        "    for n in range(1,zaehler):\n",
        "        print(\"Und nun fällt Tor Nummer \", n, \" für Marokko\")\n",
        "    pass\n",
        "  elif land == \"Frankreich\":\n",
        "    zaehler=6\n",
        "    for n in range(zaehler):\n",
        "      if n>=1:\n",
        "        print(\"Und nun fällt Tor Nummer \", n, \" für Frankreich\")\n",
        "      pass\n",
        "  else:\n",
        "    print(\"Ne,\",land, \" kann kein Fussball spielen, nur Softball\")\n",
        "\n",
        "weltmeister()\n"
      ],
      "metadata": {
        "colab": {
          "base_uri": "https://localhost:8080/"
        },
        "id": "Fjg2y-f2Bov6",
        "outputId": "567561d8-1213-40dc-fbdf-e85bb7443839"
      },
      "execution_count": null,
      "outputs": [
        {
          "output_type": "stream",
          "name": "stdout",
          "text": [
            "Welches Land soll gewinnen?Niederlande\n",
            "Ne, Niederlande  kann kein Fussball spielen, nur Softball\n"
          ]
        }
      ]
    },
    {
      "cell_type": "code",
      "metadata": {
        "id": "EIRUxc97BO0m",
        "outputId": "d27cbb31-1eb6-4476-ab31-edb5e925346b",
        "colab": {
          "base_uri": "https://localhost:8080/"
        }
      },
      "source": [
        "# Beispiel für die Ausgabe aller Einträge einer Liste\n",
        "neue_liste=[3,4,10]\n",
        "for i in neue_liste:\n",
        "    print(i)"
      ],
      "execution_count": null,
      "outputs": [
        {
          "output_type": "stream",
          "name": "stdout",
          "text": [
            "3\n",
            "4\n",
            "10\n"
          ]
        }
      ]
    },
    {
      "cell_type": "markdown",
      "metadata": {
        "id": "r5-XaA8-BO0m"
      },
      "source": [
        "### 1.7.3 Schleifen (While-Schleife)"
      ]
    },
    {
      "cell_type": "markdown",
      "metadata": {
        "id": "sti3N2PsBO0m"
      },
      "source": [
        "In einer While-Schleife wird eine Bedingung im Schleifenkopf abgeprüft. Während For-Schleifen hingegen reine Zählerschleifen sind, können in while-Schleifen diverse Abfragen ähnlich einer IF-Then-Else-Abfrage (nur eben mehrfach) durchgeführt werden. Diese können auch nicht-numerischer Natur sein."
      ]
    },
    {
      "cell_type": "markdown",
      "metadata": {
        "id": "LqwmbCRMBO0n"
      },
      "source": [
        "In diesem Beispiel werden zunächst drei Variablen befüllt. Im Anschluß wird mittels einer Bedingungsabfrage eine Zählervariable mit der Variable n=100 verglichen. Dies wäre mit einer For-Schleife eleganter gelöst."
      ]
    },
    {
      "cell_type": "code",
      "source": [],
      "metadata": {
        "id": "zc6ngSgApJsX"
      },
      "execution_count": null,
      "outputs": []
    },
    {
      "cell_type": "code",
      "metadata": {
        "id": "xxOasGKNBO0n",
        "outputId": "7b778139-9db3-4045-e22e-b04fb4392d35",
        "colab": {
          "base_uri": "https://localhost:8080/"
        }
      },
      "source": [
        "n = 10\n",
        "\n",
        "s = 0\n",
        "i = 1\n",
        "while i <= n:\n",
        "    s = s + i\n",
        "    i = i + 1\n",
        "    print(\"i ist \",i,\" und s ist \",s)\n",
        "\n",
        "print (\"Die Summe lautet: \", s)"
      ],
      "execution_count": null,
      "outputs": [
        {
          "output_type": "stream",
          "name": "stdout",
          "text": [
            "i ist  2  und s ist  1\n",
            "i ist  3  und s ist  3\n",
            "i ist  4  und s ist  6\n",
            "i ist  5  und s ist  10\n",
            "i ist  6  und s ist  15\n",
            "i ist  7  und s ist  21\n",
            "i ist  8  und s ist  28\n",
            "i ist  9  und s ist  36\n",
            "i ist  10  und s ist  45\n",
            "i ist  11  und s ist  55\n",
            "Die Summe lautet:  55\n"
          ]
        }
      ]
    },
    {
      "cell_type": "markdown",
      "metadata": {
        "id": "lGVD0aBIBO0n"
      },
      "source": [
        "In der folgenden While-Schleife wird auf eine verschachtelte While-Schleife (verschachtelt mit einer IF-Then-Else-Abfrage), der Teilfunktion break und der else zu while eingegangen. break bedeutet, dass die Schleife abgebrochen wird, sofern diese Stelle erreicht wird. While --> Else. Dieses Else bedeutet ebenso einen Ausgang aus dieser Schleife, da die abgeprüfte Bedingung im Schleifenkopft erreicht wurde."
      ]
    },
    {
      "cell_type": "code",
      "metadata": {
        "id": "NE5BSwR3BO0n",
        "outputId": "48355476-191e-40a3-e918-d74cd5ee34e2",
        "colab": {
          "base_uri": "https://localhost:8080/"
        }
      },
      "source": [
        "import random\n",
        "n = 20\n",
        "to_be_guessed = random.randint(1,n)\n",
        "guess = 0\n",
        "while guess != to_be_guessed:\n",
        "    guess = int(input(\"Neuer Versuch: \"))\n",
        "    if guess > 0:\n",
        "        if guess > to_be_guessed:\n",
        "            print(\"Zu gross\")\n",
        "        elif guess < to_be_guessed:\n",
        "            print(\"Zu klein\")\n",
        "    else:\n",
        "        print(\"Schade, dass du aufgibst!\")\n",
        "        break\n",
        "else:\n",
        "    print(\"Gratuliere, das war's\")"
      ],
      "execution_count": null,
      "outputs": [
        {
          "output_type": "stream",
          "name": "stdout",
          "text": [
            "Neuer Versuch: 0\n",
            "Schade, dass du aufgibst!\n"
          ]
        }
      ]
    },
    {
      "cell_type": "markdown",
      "metadata": {
        "id": "no679XzgM18D"
      },
      "source": [
        "Nicht zu vergessen ist, dass wir nicht immer mit einen Jupyter Notebook arbeiten. In der Regel arbeitet man direkt in einer IDE und dann bietet es sich an vor entsprechenden Funktionen oder Aufgaben Kommentare zu setzen um dem aufmerksamen Mitprogrammierer das Verstehen des Quellcodes zu erleichtern.\n",
        "\n",
        "Kommentare werden in diesem Zusammenhang mit dem Hashsymbol # vor der eigentlichen Zeile versehen. Das bedeutet, das egal was in dieser Zeile steht (Berechnungen, Text etc.) dies nicht kompiliert wird."
      ]
    },
    {
      "cell_type": "markdown",
      "metadata": {
        "id": "fYXG1e-zM18I"
      },
      "source": [
        "## 1.8 Funktionen"
      ]
    },
    {
      "cell_type": "markdown",
      "metadata": {
        "id": "YRSE48XXM18K"
      },
      "source": [
        "Werden von uns wiederverwendbare Anweisungen benötigt, so bieten einem Programmiersprachen die Möglichkeit diese als ordnungsgemäß definierte Funktionen aufzurufen. Ordnungsgemäß definiert bedeutet in diesem Zusammehang, dass es klar definierte Eingabewerte und auch klar definierte Ausgabewerte gibt.\n",
        "\n",
        "In folgendem Beispiel soll dieses Prinzip verdeutlicht werden.\n",
        "1. Wir werden zwei Werte übergeben. Beide Werte müßen Zahlenwerte sein.\n",
        "2. Wir werden einen Ausgabewert empfangen. Dieser Wert wird ein Zahlenwert sein."
      ]
    },
    {
      "cell_type": "code",
      "metadata": {
        "id": "yKwrilqtM18L",
        "colab": {
          "base_uri": "https://localhost:8080/"
        },
        "outputId": "026e48ac-ab78-4bf7-e0d8-143c68e507e8"
      },
      "source": [
        "# function that takes 2 numbers as input\n",
        "# and outputs their average\n",
        "\n",
        "def mittelwert(x,y):\n",
        "    print(\"first input is\", x)\n",
        "    print(\"second input is\", y)\n",
        "    a = (x + y) / 2.0\n",
        "    print(\"average is\", a)\n",
        "    return a\n",
        "\n",
        "ichbinkeina=3\n",
        "b=20\n",
        "mittelwert(20,20)"
      ],
      "execution_count": null,
      "outputs": [
        {
          "output_type": "stream",
          "name": "stdout",
          "text": [
            "first input is 20\n",
            "second input is 20\n",
            "average is 20.0\n"
          ]
        },
        {
          "output_type": "execute_result",
          "data": {
            "text/plain": [
              "20.0"
            ]
          },
          "metadata": {},
          "execution_count": 2
        }
      ]
    },
    {
      "cell_type": "markdown",
      "metadata": {
        "id": "Fl17lbNHM18N"
      },
      "source": [
        "Was bewirkt dieser Code in Zeile 15. Die ersten beiden Zeilen mit den # werden ignoriert, da diese Kommentare sind. Die Anweisung def avg(x,y) teilt Python und auch uns mit, dass wir eine neue wiederverwendbare Funktion definieren.\n",
        "1. def steht hierbei für definieren.\n",
        "2. avg ist der Name der Funktion und steht in diesem Zusammenhang für average=Mittelwert. Der Name ist frei wählbar, sollte jedoch so nah wie möglich an der eigentlichen Bestimmung liegen. Mit def bananaaaaa(x,y) ist keinem wirklich geholfen.\n",
        "3. x,y stehen für die beiden Übergabewerte. Diese werden in die Funktion eingekippt. In unserem Fall (Python) benötigen wir keine genauere Definition welcher Art diese Werte entsprechen müssen (Zahlen, Texte, etc.).\n",
        "\n",
        "Lassen Sie uns nun die Funktion aufrufen, indem wir Zahlenwerte eingeben."
      ]
    },
    {
      "cell_type": "code",
      "metadata": {
        "id": "iB2ztos7M18N",
        "outputId": "52e1453f-05dd-4d40-9195-af8a2956fa98"
      },
      "source": [
        "avg(2,4)"
      ],
      "execution_count": null,
      "outputs": [
        {
          "output_type": "stream",
          "text": [
            "first input is 2\n",
            "second input is 4\n",
            "average is 3.0\n"
          ],
          "name": "stdout"
        },
        {
          "output_type": "execute_result",
          "data": {
            "text/plain": [
              "3.0"
            ]
          },
          "metadata": {
            "tags": []
          },
          "execution_count": 27
        }
      ]
    },
    {
      "cell_type": "markdown",
      "metadata": {
        "id": "g7Nzjj2MM18Q"
      },
      "source": [
        "Wie man sehen kann, wird die in Zeile 15 definierte Funktion verwendet um aus den beiden Werten 2 und 4 den Mittelwert zu errechnen. Diese Funktion kann von nun beliebig oft aufgerufen werden."
      ]
    },
    {
      "cell_type": "code",
      "metadata": {
        "id": "sIoDerFxM18R",
        "outputId": "f43945d1-cfc9-4e31-eeba-cace42dfdecb"
      },
      "source": [
        "avg(100,345)"
      ],
      "execution_count": null,
      "outputs": [
        {
          "output_type": "stream",
          "text": [
            "first input is 100\n",
            "second input is 345\n",
            "average is 222.5\n"
          ],
          "name": "stdout"
        },
        {
          "output_type": "execute_result",
          "data": {
            "text/plain": [
              "222.5"
            ]
          },
          "metadata": {
            "tags": []
          },
          "execution_count": 28
        }
      ]
    },
    {
      "cell_type": "markdown",
      "metadata": {
        "id": "S1fBYqfmM18U"
      },
      "source": [
        "## 1.9 Bibliotheken"
      ]
    },
    {
      "cell_type": "markdown",
      "metadata": {
        "id": "rlH_bOtEM18V"
      },
      "source": [
        "Damit wir nun nicht das Rad neu erfinden müssen und alle bereits von anderen findigen Programmierern entwickelte Funktionen neu eintragen und definieren müssen, greifen wir auf sogenannte Bibliotheken zurück. Diese Bibliotheken bieten die Möglichkeit auf verschiedene Funktionen wie z.B. den Ausdruck in einem Graph darzustellen zuzugreifen.\n",
        "\n",
        "Wir starten nun mal mit der Bibliothek numpy. numpy enthält zweckmäßige Erweiterungen aus der Welt der Mathematik.\n",
        "\n",
        "Weitere PythonModule der SciPy lauten wie folgt:\n",
        "- NumPy: Eine Programmbibliothek, die eine einfache Handhabung mit generell großen mehrdimensionalen Arrays ermöglicht\n",
        "- SciPy: Eine Phyton-basierte Open-Source-Bibliothek, die hauptsächlich für wissenschaftliches Rechnen und Visualisierung verwendet wird\n",
        "- Matplotlib: Eine umfassende 2D/3D-Plotting-Bibliothek\n",
        "- IPython (Interactive Python): ein Kommandozeileninterpreter zum interaktiven Arbeiten mit Phyton\n",
        "- SymPy: eine Python–Bibliothek für symbolisch-mathematische Berechnungen\n",
        "- Pandas: eine Python–Bibliothek, die Hilfsmittel für die Verwaltung von Daten und deren Analyse anbietet."
      ]
    },
    {
      "cell_type": "markdown",
      "metadata": {
        "id": "JQarBZZtBO0q"
      },
      "source": [
        "Damit das Paket numpy importiert und somit verwendet werden kann sollte zuvor das Paket installiert werden. Für die Installation gibt es zwei Möglichkeiten, dies zu installieren.\n",
        "\n",
        "1. Command Prompt: Dazu das Command Prompt-Fenster öffnen und mittels dem pip install-Befehl das passende Paket installieren. (Bsp.: pip install numpy)\n",
        "2. Jupyter Notebook: Im Jupyter Notebook eine neue Code-Zeile erstellen und vor dem eigentlichen Installationsbefehl ein ! setzen. (Bsp.: !pip install numpy)\n",
        "\n",
        "Die genaue Bezeichnung für den Installierbefehl weitere Module findet sich hier: https://pypi.org/"
      ]
    },
    {
      "cell_type": "code",
      "source": [
        "!pip install numpy\n",
        "import numpy as np\n",
        "\n",
        "x = np.array([[1, 2, 3], [4, 5, 6]], np.int32)\n",
        "print(x)\n",
        "print(type(x))\n",
        "x.shape\n",
        "(2, 3)\n",
        "print(x.dtype)\n",
        "#dtype('int32')"
      ],
      "metadata": {
        "colab": {
          "base_uri": "https://localhost:8080/"
        },
        "id": "YzgIq8s2xotH",
        "outputId": "199303fe-dff6-4ca6-d52e-c4ff79384718"
      },
      "execution_count": null,
      "outputs": [
        {
          "output_type": "stream",
          "name": "stdout",
          "text": [
            "Looking in indexes: https://pypi.org/simple, https://us-python.pkg.dev/colab-wheels/public/simple/\n",
            "Requirement already satisfied: numpy in /usr/local/lib/python3.8/dist-packages (1.21.6)\n",
            "[[1 2 3]\n",
            " [4 5 6]]\n",
            "<class 'numpy.ndarray'>\n",
            "int32\n"
          ]
        }
      ]
    },
    {
      "cell_type": "code",
      "metadata": {
        "id": "lG9H8KXGBO0r",
        "outputId": "7941adb2-e08f-4f84-f8d3-c7ab725af132",
        "colab": {
          "base_uri": "https://localhost:8080/"
        }
      },
      "source": [
        "pip install numpy"
      ],
      "execution_count": null,
      "outputs": [
        {
          "output_type": "stream",
          "name": "stdout",
          "text": [
            "Requirement already satisfied: numpy in /usr/local/lib/python3.7/dist-packages (1.19.5)\n"
          ]
        }
      ]
    },
    {
      "cell_type": "code",
      "metadata": {
        "id": "vsTPv_iZBO0r",
        "outputId": "05945cc5-1412-4290-ca02-a8e724e5e6fb",
        "colab": {
          "base_uri": "https://localhost:8080/",
          "height": 373
        }
      },
      "source": [
        "pip install --upgrade numpy"
      ],
      "execution_count": null,
      "outputs": [
        {
          "output_type": "stream",
          "name": "stdout",
          "text": [
            "Looking in indexes: https://pypi.org/simple, https://us-python.pkg.dev/colab-wheels/public/simple/\n",
            "Requirement already satisfied: numpy in /usr/local/lib/python3.8/dist-packages (1.21.6)\n",
            "Collecting numpy\n",
            "  Downloading numpy-1.24.0-cp38-cp38-manylinux_2_17_x86_64.manylinux2014_x86_64.whl (17.3 MB)\n",
            "\u001b[K     |████████████████████████████████| 17.3 MB 24.4 MB/s \n",
            "\u001b[?25hInstalling collected packages: numpy\n",
            "  Attempting uninstall: numpy\n",
            "    Found existing installation: numpy 1.21.6\n",
            "    Uninstalling numpy-1.21.6:\n",
            "      Successfully uninstalled numpy-1.21.6\n",
            "\u001b[31mERROR: pip's dependency resolver does not currently take into account all the packages that are installed. This behaviour is the source of the following dependency conflicts.\n",
            "scipy 1.7.3 requires numpy<1.23.0,>=1.16.5, but you have numpy 1.24.0 which is incompatible.\n",
            "numba 0.56.4 requires numpy<1.24,>=1.18, but you have numpy 1.24.0 which is incompatible.\u001b[0m\n",
            "Successfully installed numpy-1.24.0\n"
          ]
        },
        {
          "output_type": "display_data",
          "data": {
            "application/vnd.colab-display-data+json": {
              "pip_warning": {
                "packages": [
                  "numpy"
                ]
              }
            }
          },
          "metadata": {}
        }
      ]
    },
    {
      "cell_type": "code",
      "metadata": {
        "id": "GxJN97S4M18V",
        "outputId": "e01cc23d-7d6e-4bba-9a04-aa56204e5439"
      },
      "source": [
        "import numpy as np\n",
        "type(np)"
      ],
      "execution_count": null,
      "outputs": [
        {
          "output_type": "execute_result",
          "data": {
            "text/plain": [
              "module"
            ]
          },
          "metadata": {
            "tags": []
          },
          "execution_count": 3
        }
      ]
    },
    {
      "cell_type": "code",
      "metadata": {
        "id": "NOexVkYsM18X",
        "outputId": "e6555f0a-2f6f-4b38-d457-f17c4b3bbb8a"
      },
      "source": [
        "a = np.zeros( [3,6] )\n",
        "print(a)\n",
        "type(a)"
      ],
      "execution_count": null,
      "outputs": [
        {
          "output_type": "stream",
          "text": [
            "[[0. 0. 0. 0. 0. 0.]\n",
            " [0. 0. 0. 0. 0. 0.]\n",
            " [0. 0. 0. 0. 0. 0.]]\n"
          ],
          "name": "stdout"
        },
        {
          "output_type": "execute_result",
          "data": {
            "text/plain": [
              "numpy.ndarray"
            ]
          },
          "metadata": {
            "tags": []
          },
          "execution_count": 6
        }
      ]
    },
    {
      "cell_type": "markdown",
      "metadata": {
        "id": "wXmXPUTsM18d"
      },
      "source": [
        "Um numpy oder weitere Bibliotheken nutzen zu können müssen diese zuvor installiert werden. Um diese zu installieren muß allerdings der Account einen Administratorzugang haben. Danach kann man mittels command line Pakete wie zum Beispiel das Tensorflow-Framework installieren.  "
      ]
    },
    {
      "cell_type": "code",
      "metadata": {
        "id": "SUVI0OWtM18e",
        "outputId": "21923691-4135-4c11-a34b-214859e0ab72",
        "colab": {
          "base_uri": "https://localhost:8080/"
        }
      },
      "source": [
        "pip --version"
      ],
      "execution_count": null,
      "outputs": [
        {
          "output_type": "stream",
          "name": "stdout",
          "text": [
            "pip 21.1.3 from /usr/local/lib/python3.7/dist-packages/pip (python 3.7)\n"
          ]
        }
      ]
    },
    {
      "cell_type": "markdown",
      "metadata": {
        "id": "pRn_mhe7M18j"
      },
      "source": [
        "Wie man oben sehen kann geht dies nur in einer Shell und auch nur als Administrator. Sollte man nun z.B. die tensorflow-Bibliothek installieren wollen, so würde man folgenden Befehl nutzen. pip3 install --upgrade tensorflow"
      ]
    },
    {
      "cell_type": "code",
      "metadata": {
        "id": "HSqH9lQzM18k"
      },
      "source": [
        "import numpy as np"
      ],
      "execution_count": null,
      "outputs": []
    },
    {
      "cell_type": "markdown",
      "metadata": {
        "id": "6RszoiPAM18m"
      },
      "source": [
        "Man kann den Namensraum einer Bibliothek auch verändern oder wie in der folgenden Zeile 23 nur einzelne Methoden/Funktionen importieren. In diesem Fall muß auch nicht der Bibliotheksname erwähnt werden."
      ]
    },
    {
      "cell_type": "code",
      "metadata": {
        "id": "ElsJi6CYM18m"
      },
      "source": [
        "from math import sin, pi, e, pow"
      ],
      "execution_count": null,
      "outputs": []
    },
    {
      "cell_type": "code",
      "metadata": {
        "colab": {
          "base_uri": "https://localhost:8080/",
          "height": 67
        },
        "id": "uZI_HVJsM18p",
        "outputId": "d8f0d17d-c2af-4e20-e225-34d10e7c1cbf"
      },
      "source": [
        "print(pi)\n",
        "print(e)\n",
        "y=1/(1-pow(e,-x))\n",
        "print(x)"
      ],
      "execution_count": null,
      "outputs": [
        {
          "output_type": "stream",
          "text": [
            "3.141592653589793\n",
            "2.718281828459045\n"
          ],
          "name": "stdout"
        },
        {
          "output_type": "error",
          "ename": "NameError",
          "evalue": "name 'x' is not defined",
          "traceback": [
            "\u001b[1;31m---------------------------------------------------------------------------\u001b[0m",
            "\u001b[1;31mNameError\u001b[0m                                 Traceback (most recent call last)",
            "\u001b[1;32m<ipython-input-33-33a0d46a646e>\u001b[0m in \u001b[0;36m<module>\u001b[1;34m\u001b[0m\n\u001b[0;32m      1\u001b[0m \u001b[0mprint\u001b[0m\u001b[1;33m(\u001b[0m\u001b[0mpi\u001b[0m\u001b[1;33m)\u001b[0m\u001b[1;33m\u001b[0m\u001b[1;33m\u001b[0m\u001b[0m\n\u001b[0;32m      2\u001b[0m \u001b[0mprint\u001b[0m\u001b[1;33m(\u001b[0m\u001b[0me\u001b[0m\u001b[1;33m)\u001b[0m\u001b[1;33m\u001b[0m\u001b[1;33m\u001b[0m\u001b[0m\n\u001b[1;32m----> 3\u001b[1;33m \u001b[0my\u001b[0m\u001b[1;33m=\u001b[0m\u001b[1;36m1\u001b[0m\u001b[1;33m/\u001b[0m\u001b[1;33m(\u001b[0m\u001b[1;36m1\u001b[0m\u001b[1;33m-\u001b[0m\u001b[0mpow\u001b[0m\u001b[1;33m(\u001b[0m\u001b[0me\u001b[0m\u001b[1;33m,\u001b[0m\u001b[1;33m-\u001b[0m\u001b[0mx\u001b[0m\u001b[1;33m)\u001b[0m\u001b[1;33m)\u001b[0m\u001b[1;33m\u001b[0m\u001b[1;33m\u001b[0m\u001b[0m\n\u001b[0m\u001b[0;32m      4\u001b[0m \u001b[0mprint\u001b[0m\u001b[1;33m(\u001b[0m\u001b[0mx\u001b[0m\u001b[1;33m)\u001b[0m\u001b[1;33m\u001b[0m\u001b[1;33m\u001b[0m\u001b[0m\n",
            "\u001b[1;31mNameError\u001b[0m: name 'x' is not defined"
          ]
        }
      ]
    },
    {
      "cell_type": "code",
      "metadata": {
        "colab": {
          "base_uri": "https://localhost:8080/",
          "height": 295
        },
        "id": "Ai1hXrmXvNTp",
        "outputId": "4aba64de-9cc3-4bf3-ffce-ff6e11f267de"
      },
      "source": [
        "import numpy as np\n",
        "import matplotlib.pyplot as plt\n",
        "def sigmoid(x):\n",
        "    return 1 / (1 + np.exp(-x))\n",
        "\n",
        "X = np.linspace(-5, 5, 100)\n",
        "print(type(X))\n",
        "Y=np.linspace(1, 3, 100)\n",
        "\n",
        "plt.plot(X, sigmoid(X),'g')\n",
        "plt.xlabel('X Axis')\n",
        "plt.ylabel('Y Axis')\n",
        "plt.title('Sigmoid Funktion')\n",
        "plt.grid()\n",
        "plt.text(4, 0.0, r'$\\sigma(x)=\\frac{1}{1+e^{-x}}$', fontsize=16)\n",
        "plt.show()\n"
      ],
      "execution_count": null,
      "outputs": [
        {
          "output_type": "stream",
          "text": [
            "<class 'numpy.ndarray'>\n"
          ],
          "name": "stdout"
        },
        {
          "output_type": "display_data",
          "data": {
            "image/png": "[encoded data removed]",
            "text/plain": [
              "<Figure size 432x288 with 1 Axes>"
            ]
          },
          "metadata": {
            "tags": [],
            "needs_background": "light"
          }
        }
      ]
    },
    {
      "cell_type": "code",
      "metadata": {
        "id": "hauEc_BkM18u",
        "outputId": "e0fa7648-4f9c-436c-fb31-67f0535edee3"
      },
      "source": [
        "MEIN_X = np.linspace(1, 10, 100)\n",
        "\n",
        "def MEIN_Y(x):\n",
        "    return (np.sin(x))\n",
        "def MEIN_Y2(x):\n",
        "    return (np.exp(x))\n",
        "\n",
        "plt.plot(MEIN_X,MEIN_Y(MEIN_X))\n",
        "plt.plot(MEIN_X,MEIN_Y2(MEIN_X),\"x\")\n",
        "plt.grid()\n",
        "plt.show()"
      ],
      "execution_count": null,
      "outputs": [
        {
          "output_type": "display_data",
          "data": {
            "image/png": "[encoded data removed]",
            "text/plain": [
              "<Figure size 432x288 with 1 Axes>"
            ]
          },
          "metadata": {
            "tags": [],
            "needs_background": "light"
          }
        }
      ]
    },
    {
      "cell_type": "markdown",
      "metadata": {
        "id": "1ut15ytEM18w"
      },
      "source": [
        "## 1.10 Arrays mit numpy"
      ]
    },
    {
      "cell_type": "markdown",
      "metadata": {
        "id": "7lVpNAR_M18x"
      },
      "source": [
        "Kommen wir zurück zu unserem Beispiel aus Zeile 19. Wir hatten in der Variablen a einen Array mit drei Zeilen und zwei Spalten erzeugt. Alle Werte wurden mittels zeros auf Null gesetzt."
      ]
    },
    {
      "cell_type": "code",
      "metadata": {
        "id": "jX50xmu3M18x",
        "outputId": "18b0b447-18cf-475e-a3bf-797dc3490b1a"
      },
      "source": [
        "a = np.zeros( [3,2] )\n",
        "print(a)"
      ],
      "execution_count": null,
      "outputs": [
        {
          "output_type": "stream",
          "text": [
            "[[0. 0.]\n",
            " [0. 0.]\n",
            " [0. 0.]]\n"
          ],
          "name": "stdout"
        }
      ]
    },
    {
      "cell_type": "markdown",
      "metadata": {
        "id": "h6q1U4AfM181"
      },
      "source": [
        "Als nächstes modifizeren wir die Inhalte des Arrays. Dies kann z.B. wie folgt geschehen."
      ]
    },
    {
      "cell_type": "code",
      "metadata": {
        "id": "0WE-1UkHM182",
        "outputId": "97f841fc-5f76-43ce-9e90-f8b24d3bef90"
      },
      "source": [
        "a[0,0] = 1\n",
        "a[0,1] = 2\n",
        "a[1,0] = 9\n",
        "a[2,0] =20\n",
        "a[2,1] = 12\n",
        "print(a)"
      ],
      "execution_count": null,
      "outputs": [
        {
          "output_type": "stream",
          "text": [
            "[[ 1.  2.]\n",
            " [ 9.  0.]\n",
            " [20. 12.]]\n"
          ],
          "name": "stdout"
        }
      ]
    },
    {
      "cell_type": "markdown",
      "metadata": {
        "id": "iHWxd_njM184"
      },
      "source": [
        "Die Ausgabe der einzelnen Werte des Arrays können auf mehreren Wegen wiedergegeben werden. Siehe folgendes Beispiel."
      ]
    },
    {
      "cell_type": "code",
      "metadata": {
        "id": "oqTdj_j5M184",
        "outputId": "c9eb622c-86bb-4d8e-8c6b-c85a19ad95a3"
      },
      "source": [
        "print(a[0,1])\n",
        "v = a[1,0]\n",
        "print(v)"
      ],
      "execution_count": null,
      "outputs": [
        {
          "output_type": "stream",
          "text": [
            "2.0\n",
            "9.0\n"
          ],
          "name": "stdout"
        }
      ]
    },
    {
      "cell_type": "markdown",
      "metadata": {
        "id": "JeWVeRX2M187"
      },
      "source": [
        "Als nächstes werden wir mal den Array grafisch ausgeben.\n",
        "1. Dafür benötigen wir die Bibliothek matplotlib welche wir in Zeile 34 importieren.\n",
        "2. In Zeilte 35 geben wir an, dass die Grafik nicht in einem weiteren Fenster sondern direkt hier in unserem Notebook erfolgen soll.\n",
        "3. In Zeile 36 erfolgt dann die Anweisung der Ausgabe. Die Anweisung imshow() erzeugt dabei eine Grafik. Der erste Parameter ist das entsprechende array a. Der zweite Parameter beginnt mit interpolation was soviel bedeutet, wie dass die Farben nicht überblendet werden sollen."
      ]
    },
    {
      "cell_type": "code",
      "metadata": {
        "id": "RSy-dH5WM189"
      },
      "source": [
        "import matplotlib.pyplot"
      ],
      "execution_count": null,
      "outputs": []
    },
    {
      "cell_type": "code",
      "metadata": {
        "id": "k-p9s8d9M18_"
      },
      "source": [
        "%matplotlib inline"
      ],
      "execution_count": null,
      "outputs": []
    },
    {
      "cell_type": "code",
      "metadata": {
        "id": "GWdpk1fuM19B",
        "outputId": "547de03f-e68d-4f16-ff84-942fd8bfb116"
      },
      "source": [
        "matplotlib.pyplot.imshow(a, interpolation=\"nearest\")"
      ],
      "execution_count": null,
      "outputs": [
        {
          "output_type": "execute_result",
          "data": {
            "text/plain": [
              "<matplotlib.image.AxesImage at 0x20a6850d070>"
            ]
          },
          "metadata": {
            "tags": []
          },
          "execution_count": 43
        },
        {
          "output_type": "display_data",
          "data": {
            "image/png": "[encoded data removed]",
            "text/plain": [
              "<Figure size 432x288 with 1 Axes>"
            ]
          },
          "metadata": {
            "tags": [],
            "needs_background": "light"
          }
        }
      ]
    },
    {
      "cell_type": "markdown",
      "metadata": {
        "id": "ZqiJ7eKqM19F"
      },
      "source": [
        "## 1.11 Objekte und Klassen"
      ]
    },
    {
      "cell_type": "markdown",
      "metadata": {
        "id": "_-7srTocM19G"
      },
      "source": [
        "Für unseren späteren Umgang mit neuronalen Netzen benötigen wir noch Objekte und Klassen. Objekte sind Instanzen einer Klasse. Umgangssprachlich könnte man auch sagen eine Klasse ist ein Kuchenrezept in einem Buch. Ein Objekt ist ein Kuchen, der nach diesem Rezept gebacken wurde. Aber hier ein Beispiel:"
      ]
    },
    {
      "cell_type": "code",
      "metadata": {
        "id": "opStQA3LM19G"
      },
      "source": [
        "# Klasse für einen Hund\n",
        "class Dog:\n",
        "    # Hunde können bellen(bark)\n",
        "    def bark(self):\n",
        "        print(\"woof!\")\n",
        "        print(\"Rechne was schönes\")\n",
        "        pass\n",
        "\n",
        "    pass"
      ],
      "execution_count": null,
      "outputs": []
    },
    {
      "cell_type": "markdown",
      "metadata": {
        "id": "cqz0sLM9M19J"
      },
      "source": [
        "In Zeile 37 haben wir nun folgendes. Zunächst kommt etwas bekanntes mit der Funktion bark() zu deutsch \"bellen\" und dem Ausgabebefehl \"woof!\". Desweiteren sehen wir nun ganz zu Beginn eine Initialisierung für Dog. Genauer eine Klassendefinition mit dem Schlüsselwort class."
      ]
    },
    {
      "cell_type": "code",
      "metadata": {
        "id": "jOEiIHROM19J",
        "outputId": "087b0555-85f5-48ea-86b4-f7e6425d82a7",
        "colab": {
          "base_uri": "https://localhost:8080/"
        }
      },
      "source": [
        "Mathilda = Dog()\n",
        "Mathilda.bark()"
      ],
      "execution_count": null,
      "outputs": [
        {
          "output_type": "stream",
          "name": "stdout",
          "text": [
            "woof!\n",
            "Rechne was schönes\n"
          ]
        }
      ]
    },
    {
      "cell_type": "markdown",
      "metadata": {
        "id": "HKSuD5tMM19R"
      },
      "source": [
        "In Zeile 38 wird zunächst eine Variable mit dem Namen sizzles erzeugt. Diese Variable zeigt auf die Klasse Dog(). Wir haben dadurch eine Variable erzeugt welche genauer ein Objekt basierend auf der Klasse Dog() darstellt. Etwas ungewöhnlich und Pythontypisch ist hier das self in def bark(self). self steht hier damit Python die erzeugte Funktion dem richtigen Objekt zuweist, was jedoch auf der Hand liegt."
      ]
    },
    {
      "cell_type": "code",
      "metadata": {
        "id": "AWPO_IRiM19S",
        "outputId": "77a7cc08-afa8-4f9c-ee13-ebb236c37024",
        "colab": {
          "base_uri": "https://localhost:8080/"
        }
      },
      "source": [
        "sizzles = Dog()\n",
        "mutley = Dog()\n",
        "sizzles.bark()\n",
        "mutley.bark()"
      ],
      "execution_count": null,
      "outputs": [
        {
          "output_type": "stream",
          "name": "stdout",
          "text": [
            "woof!\n",
            "Rechne was schönes\n",
            "woof!\n",
            "Rechne was schönes\n"
          ]
        }
      ]
    },
    {
      "cell_type": "markdown",
      "metadata": {
        "id": "AWBNl1p1M19Y"
      },
      "source": [
        "Wozu das Ganze. Nun es wird gemacht um eine Vorlage zu erstellen von der mehrere gleichartige Objekte abstammen. Man spart sich somit die Zeit jedes ähnliche Objekt neu erzeugen zu müssen. Diese Objektfunktionen werden gemeinhin als Methoden bezeichnet."
      ]
    },
    {
      "cell_type": "markdown",
      "metadata": {
        "id": "LsBtT7ObM19Z"
      },
      "source": [
        "Im nächsten Schritt werden wir nun einer Klasse Datenvariablen hinzufügen sowie einige Methoden um diese Daten objektbasierend anzuzeigen oder zu ändern."
      ]
    },
    {
      "cell_type": "code",
      "metadata": {
        "id": "-jlDEoChM19a"
      },
      "source": [
        "# class for a dog object\n",
        "class Dog:\n",
        "\n",
        "    # initialisation method with internal data\n",
        "    def __init__(self, petname, temp, color, height):\n",
        "        self.name = petname\n",
        "        self.temperature = temp\n",
        "        self.fellfarbe = color\n",
        "        self.groesse = height\n",
        "\n",
        "    # get status\n",
        "    def status(self):\n",
        "        print(\"dog name is \", self.name)\n",
        "        print(\"dog temperature is \", self.temperature)\n",
        "        print(\"Die Fellfarbe ist \", self.fellfarbe)\n",
        "        print(\"Wie groß ist der Hund: \", self.groesse)\n",
        "        pass\n",
        "\n",
        "    # set temperature\n",
        "    def setTemperature(self,temp):\n",
        "        self.temperature = temp\n",
        "        pass\n",
        "\n",
        "    # set fellfarbe\n",
        "    def setFellfarbe(self,farbe):\n",
        "        self.fellfarbe = farbe\n",
        "        pass\n",
        "\n",
        "    # set größe\n",
        "    def setgroesse(self,meinegroesse):\n",
        "        self.groesse = meinegroesse\n",
        "        pass\n",
        "\n",
        "    # dogs can bark()\n",
        "    def bark(self):\n",
        "        print(\"woof!\")\n",
        "        pass\n",
        "\n",
        "    pass"
      ],
      "execution_count": null,
      "outputs": []
    },
    {
      "cell_type": "markdown",
      "metadata": {
        "id": "KN1a5L2cM19d"
      },
      "source": [
        "Hier sind nun drei neue Funktionen hinzugekommen. Neben bark() sehen wir nun eine Funktion __init__(), status() und setTemperature(). In den Klammern werden nun zusätzliche Informationen angefordert. Eingangsdaten, welche benötigt werden um den Funktionsrumpf ausführen zu können. __init__() hat in Python eine spezielle Bedeutung. Diese Funktion ruft Python immer dann auf um ein Objekt vorzubereiten. Übergeben werden dabei zwei Variablen Temperature (temp) und Petname (petname) welche durch self gekennzeichnet werden, dass diese übergebenen Werte nur in diesem Objekt und nicht in der Klasse gespeichert werden. status() gibt die Eingabewerte wieder aus. In setTemperature wird klar, dass die Variable für dieses Objekt jederzeit geöndert werden kann."
      ]
    },
    {
      "cell_type": "code",
      "metadata": {
        "id": "MkNSS8xtM19e",
        "outputId": "1bb7ab83-0f96-4474-a308-ad92af501fb7",
        "colab": {
          "base_uri": "https://localhost:8080/"
        }
      },
      "source": [
        "#create a new dog object\n",
        "Lassie = Dog(\"Lassie\", 37, \"braun\",20)\n",
        "Lassie.status()"
      ],
      "execution_count": null,
      "outputs": [
        {
          "output_type": "stream",
          "name": "stdout",
          "text": [
            "dog name is  Lassie\n",
            "dog temperature is  37\n",
            "Die Fellfarbe ist  braun\n",
            "Wie groß ist der Hund:  20\n"
          ]
        }
      ]
    },
    {
      "cell_type": "code",
      "metadata": {
        "id": "RpYLq6X-M19i",
        "outputId": "cc447b36-1760-4a87-c9e8-1057d856b634",
        "colab": {
          "base_uri": "https://localhost:8080/"
        }
      },
      "source": [
        "Lassie.setTemperature(40)\n",
        "Lassie.setgroesse(21)\n",
        "Lassie.status()"
      ],
      "execution_count": null,
      "outputs": [
        {
          "output_type": "stream",
          "name": "stdout",
          "text": [
            "dog name is  Lassie\n",
            "dog temperature is  40\n",
            "Die Fellfarbe ist  braun\n",
            "Wie groß ist der Hund:  21\n"
          ]
        }
      ]
    },
    {
      "cell_type": "markdown",
      "metadata": {
        "id": "juk4r2fQM19k"
      },
      "source": [
        "Wir können hier nun sehen, dass wir jederzeit neue Objekte anlegen können oder für vorhandene Objekte die Variablen ändern können."
      ]
    },
    {
      "cell_type": "markdown",
      "metadata": {
        "id": "Y8pRLSs-M19l"
      },
      "source": [
        "Das war's für Erste. Jetzt geht's weiter mit dem Aufbau eines neuronalen Netzes."
      ]
    },
    {
      "cell_type": "code",
      "source": [
        "#und noch ein Hund\n",
        "Rex = Dog(\"Rex\",39,\"schwarzweißgepunktet\",100)"
      ],
      "metadata": {
        "id": "pK4D_UMN8S6X"
      },
      "execution_count": null,
      "outputs": []
    },
    {
      "cell_type": "code",
      "source": [
        "Lassie.status()\n",
        "Rex.status()"
      ],
      "metadata": {
        "colab": {
          "base_uri": "https://localhost:8080/"
        },
        "id": "mqmieBjW8nrA",
        "outputId": "da17b7fa-581f-4e14-b9db-ecbe02b3d6c2"
      },
      "execution_count": null,
      "outputs": [
        {
          "output_type": "stream",
          "name": "stdout",
          "text": [
            "dog name is  Lassie\n",
            "dog temperature is  40\n",
            "Die Fellfarbe ist  braun\n",
            "Wie groß ist der Hund:  21\n",
            "dog name is  Rex\n",
            "dog temperature is  39\n",
            "Die Fellfarbe ist  schwarzweißgepunktet\n",
            "Wie groß ist der Hund:  100\n"
          ]
        }
      ]
    },
    {
      "cell_type": "markdown",
      "metadata": {
        "id": "nYdB4-3CBO00"
      },
      "source": [
        "## 1.12 Pfade (lokal und online) und Daten"
      ]
    },
    {
      "cell_type": "code",
      "metadata": {
        "id": "_srPXBJnM19l"
      },
      "source": [
        "In der Regel wird im Data Science auf Datasets zugegriffen. Diese können sowohl lokal wie auch aus dem Web vorherrschen."
      ],
      "execution_count": null,
      "outputs": []
    },
    {
      "cell_type": "code",
      "metadata": {
        "id": "H1zx9m8tBO00"
      },
      "source": [
        "#pandas Bib importieren, damit Daten in einen Dataframe etc. gespeichert werden können. Mehr dazu in dem Jupyter Notebook 3. Arbeiten mit Pandas\n",
        "import pandas as pd"
      ],
      "execution_count": null,
      "outputs": []
    },
    {
      "cell_type": "code",
      "metadata": {
        "id": "JFpEtUneBO00"
      },
      "source": [
        "mein_datensatz=pd.read_csv(\"countries.csv\")"
      ],
      "execution_count": null,
      "outputs": []
    },
    {
      "cell_type": "code",
      "metadata": {
        "id": "Q9Ub9ZCEBO01",
        "outputId": "1b52e0a0-e1b9-4959-8f8d-61fb6672a5b0"
      },
      "source": [
        "mein_datensatz"
      ],
      "execution_count": null,
      "outputs": [
        {
          "output_type": "execute_result",
          "data": {
            "text/html": [
              "<div>\n",
              "<style scoped>\n",
              "    .dataframe tbody tr th:only-of-type {\n",
              "        vertical-align: middle;\n",
              "    }\n",
              "\n",
              "    .dataframe tbody tr th {\n",
              "        vertical-align: top;\n",
              "    }\n",
              "\n",
              "    .dataframe thead th {\n",
              "        text-align: right;\n",
              "    }\n",
              "</style>\n",
              "<table border=\"1\" class=\"dataframe\">\n",
              "  <thead>\n",
              "    <tr style=\"text-align: right;\">\n",
              "      <th></th>\n",
              "      <th>country</th>\n",
              "      <th>year</th>\n",
              "      <th>population</th>\n",
              "    </tr>\n",
              "  </thead>\n",
              "  <tbody>\n",
              "    <tr>\n",
              "      <th>0</th>\n",
              "      <td>Afghanistan</td>\n",
              "      <td>1952</td>\n",
              "      <td>8425333</td>\n",
              "    </tr>\n",
              "    <tr>\n",
              "      <th>1</th>\n",
              "      <td>Afghanistan</td>\n",
              "      <td>1957</td>\n",
              "      <td>9240934</td>\n",
              "    </tr>\n",
              "    <tr>\n",
              "      <th>2</th>\n",
              "      <td>Afghanistan</td>\n",
              "      <td>1962</td>\n",
              "      <td>10267083</td>\n",
              "    </tr>\n",
              "    <tr>\n",
              "      <th>3</th>\n",
              "      <td>Afghanistan</td>\n",
              "      <td>1967</td>\n",
              "      <td>11537966</td>\n",
              "    </tr>\n",
              "    <tr>\n",
              "      <th>4</th>\n",
              "      <td>Afghanistan</td>\n",
              "      <td>1972</td>\n",
              "      <td>13079460</td>\n",
              "    </tr>\n",
              "    <tr>\n",
              "      <th>...</th>\n",
              "      <td>...</td>\n",
              "      <td>...</td>\n",
              "      <td>...</td>\n",
              "    </tr>\n",
              "    <tr>\n",
              "      <th>1699</th>\n",
              "      <td>Zimbabwe</td>\n",
              "      <td>1987</td>\n",
              "      <td>9216418</td>\n",
              "    </tr>\n",
              "    <tr>\n",
              "      <th>1700</th>\n",
              "      <td>Zimbabwe</td>\n",
              "      <td>1992</td>\n",
              "      <td>10704340</td>\n",
              "    </tr>\n",
              "    <tr>\n",
              "      <th>1701</th>\n",
              "      <td>Zimbabwe</td>\n",
              "      <td>1997</td>\n",
              "      <td>11404948</td>\n",
              "    </tr>\n",
              "    <tr>\n",
              "      <th>1702</th>\n",
              "      <td>Zimbabwe</td>\n",
              "      <td>2002</td>\n",
              "      <td>11926563</td>\n",
              "    </tr>\n",
              "    <tr>\n",
              "      <th>1703</th>\n",
              "      <td>Zimbabwe</td>\n",
              "      <td>2007</td>\n",
              "      <td>12311143</td>\n",
              "    </tr>\n",
              "  </tbody>\n",
              "</table>\n",
              "<p>1704 rows × 3 columns</p>\n",
              "</div>"
            ],
            "text/plain": [
              "          country  year  population\n",
              "0     Afghanistan  1952     8425333\n",
              "1     Afghanistan  1957     9240934\n",
              "2     Afghanistan  1962    10267083\n",
              "3     Afghanistan  1967    11537966\n",
              "4     Afghanistan  1972    13079460\n",
              "...           ...   ...         ...\n",
              "1699     Zimbabwe  1987     9216418\n",
              "1700     Zimbabwe  1992    10704340\n",
              "1701     Zimbabwe  1997    11404948\n",
              "1702     Zimbabwe  2002    11926563\n",
              "1703     Zimbabwe  2007    12311143\n",
              "\n",
              "[1704 rows x 3 columns]"
            ]
          },
          "metadata": {
            "tags": []
          },
          "execution_count": 80
        }
      ]
    },
    {
      "cell_type": "code",
      "metadata": {
        "id": "7sPZ0VTsBO01",
        "outputId": "54293e06-a4c6-48a7-a5df-69d270f7f183"
      },
      "source": [
        "mein_datensatz.describe()"
      ],
      "execution_count": null,
      "outputs": [
        {
          "output_type": "execute_result",
          "data": {
            "text/html": [
              "<div>\n",
              "<style scoped>\n",
              "    .dataframe tbody tr th:only-of-type {\n",
              "        vertical-align: middle;\n",
              "    }\n",
              "\n",
              "    .dataframe tbody tr th {\n",
              "        vertical-align: top;\n",
              "    }\n",
              "\n",
              "    .dataframe thead th {\n",
              "        text-align: right;\n",
              "    }\n",
              "</style>\n",
              "<table border=\"1\" class=\"dataframe\">\n",
              "  <thead>\n",
              "    <tr style=\"text-align: right;\">\n",
              "      <th></th>\n",
              "      <th>year</th>\n",
              "      <th>population</th>\n",
              "    </tr>\n",
              "  </thead>\n",
              "  <tbody>\n",
              "    <tr>\n",
              "      <th>count</th>\n",
              "      <td>1704.00000</td>\n",
              "      <td>1.704000e+03</td>\n",
              "    </tr>\n",
              "    <tr>\n",
              "      <th>mean</th>\n",
              "      <td>1979.50000</td>\n",
              "      <td>2.960121e+07</td>\n",
              "    </tr>\n",
              "    <tr>\n",
              "      <th>std</th>\n",
              "      <td>17.26533</td>\n",
              "      <td>1.061579e+08</td>\n",
              "    </tr>\n",
              "    <tr>\n",
              "      <th>min</th>\n",
              "      <td>1952.00000</td>\n",
              "      <td>6.001100e+04</td>\n",
              "    </tr>\n",
              "    <tr>\n",
              "      <th>25%</th>\n",
              "      <td>1965.75000</td>\n",
              "      <td>2.793664e+06</td>\n",
              "    </tr>\n",
              "    <tr>\n",
              "      <th>50%</th>\n",
              "      <td>1979.50000</td>\n",
              "      <td>7.023596e+06</td>\n",
              "    </tr>\n",
              "    <tr>\n",
              "      <th>75%</th>\n",
              "      <td>1993.25000</td>\n",
              "      <td>1.958522e+07</td>\n",
              "    </tr>\n",
              "    <tr>\n",
              "      <th>max</th>\n",
              "      <td>2007.00000</td>\n",
              "      <td>1.318683e+09</td>\n",
              "    </tr>\n",
              "  </tbody>\n",
              "</table>\n",
              "</div>"
            ],
            "text/plain": [
              "             year    population\n",
              "count  1704.00000  1.704000e+03\n",
              "mean   1979.50000  2.960121e+07\n",
              "std      17.26533  1.061579e+08\n",
              "min    1952.00000  6.001100e+04\n",
              "25%    1965.75000  2.793664e+06\n",
              "50%    1979.50000  7.023596e+06\n",
              "75%    1993.25000  1.958522e+07\n",
              "max    2007.00000  1.318683e+09"
            ]
          },
          "metadata": {
            "tags": []
          },
          "execution_count": 76
        }
      ]
    },
    {
      "cell_type": "code",
      "metadata": {
        "id": "Uhhkt-lEBO02",
        "outputId": "ad75a1b5-3ab5-4fbe-a4eb-0d1cd38498d4"
      },
      "source": [
        "type(mein_datensatz)"
      ],
      "execution_count": null,
      "outputs": [
        {
          "output_type": "execute_result",
          "data": {
            "text/plain": [
              "pandas.core.frame.DataFrame"
            ]
          },
          "metadata": {
            "tags": []
          },
          "execution_count": 77
        }
      ]
    },
    {
      "cell_type": "code",
      "metadata": {
        "id": "hGEQmf80BO02",
        "outputId": "8e0945b3-8b83-476d-9b52-09d0b4db30e3"
      },
      "source": [
        "neuer_datensatz=pd.read_csv(\"../datasets/sample_data.csv\")\n",
        "neuer_datensatz"
      ],
      "execution_count": null,
      "outputs": [
        {
          "output_type": "execute_result",
          "data": {
            "text/html": [
              "<div>\n",
              "<style scoped>\n",
              "    .dataframe tbody tr th:only-of-type {\n",
              "        vertical-align: middle;\n",
              "    }\n",
              "\n",
              "    .dataframe tbody tr th {\n",
              "        vertical-align: top;\n",
              "    }\n",
              "\n",
              "    .dataframe thead th {\n",
              "        text-align: right;\n",
              "    }\n",
              "</style>\n",
              "<table border=\"1\" class=\"dataframe\">\n",
              "  <thead>\n",
              "    <tr style=\"text-align: right;\">\n",
              "      <th></th>\n",
              "      <th>column_a</th>\n",
              "      <th>column_b</th>\n",
              "      <th>column_c</th>\n",
              "    </tr>\n",
              "  </thead>\n",
              "  <tbody>\n",
              "    <tr>\n",
              "      <th>0</th>\n",
              "      <td>1</td>\n",
              "      <td>1</td>\n",
              "      <td>10</td>\n",
              "    </tr>\n",
              "    <tr>\n",
              "      <th>1</th>\n",
              "      <td>2</td>\n",
              "      <td>4</td>\n",
              "      <td>8</td>\n",
              "    </tr>\n",
              "    <tr>\n",
              "      <th>2</th>\n",
              "      <td>3</td>\n",
              "      <td>9</td>\n",
              "      <td>6</td>\n",
              "    </tr>\n",
              "    <tr>\n",
              "      <th>3</th>\n",
              "      <td>4</td>\n",
              "      <td>16</td>\n",
              "      <td>4</td>\n",
              "    </tr>\n",
              "    <tr>\n",
              "      <th>4</th>\n",
              "      <td>5</td>\n",
              "      <td>25</td>\n",
              "      <td>2</td>\n",
              "    </tr>\n",
              "  </tbody>\n",
              "</table>\n",
              "</div>"
            ],
            "text/plain": [
              "   column_a  column_b  column_c\n",
              "0         1         1        10\n",
              "1         2         4         8\n",
              "2         3         9         6\n",
              "3         4        16         4\n",
              "4         5        25         2"
            ]
          },
          "metadata": {
            "tags": []
          },
          "execution_count": 79
        }
      ]
    },
    {
      "cell_type": "code",
      "metadata": {
        "id": "CBWr6544BO03",
        "outputId": "ac75a084-0fb4-47fd-9796-6ad7c0d11c4d",
        "colab": {
          "base_uri": "https://localhost:8080/",
          "height": 514
        }
      },
      "source": [
        "!pip install pandas\n",
        "import pandas as pd\n",
        "\n",
        "\n",
        "neuer_datensatz_golf=pd.read_csv(\"../../Datasets/golf.csv\")\n",
        "neuer_datensatz_golf"
      ],
      "execution_count": null,
      "outputs": [
        {
          "output_type": "stream",
          "name": "stdout",
          "text": [
            "Looking in indexes: https://pypi.org/simple, https://us-python.pkg.dev/colab-wheels/public/simple/\n",
            "Requirement already satisfied: pandas in /usr/local/lib/python3.8/dist-packages (1.3.5)\n",
            "Requirement already satisfied: python-dateutil>=2.7.3 in /usr/local/lib/python3.8/dist-packages (from pandas) (2.8.2)\n",
            "Requirement already satisfied: numpy>=1.17.3 in /usr/local/lib/python3.8/dist-packages (from pandas) (1.21.6)\n",
            "Requirement already satisfied: pytz>=2017.3 in /usr/local/lib/python3.8/dist-packages (from pandas) (2022.6)\n",
            "Requirement already satisfied: six>=1.5 in /usr/local/lib/python3.8/dist-packages (from python-dateutil>=2.7.3->pandas) (1.15.0)\n"
          ]
        },
        {
          "output_type": "error",
          "ename": "FileNotFoundError",
          "evalue": "ignored",
          "traceback": [
            "\u001b[0;31m---------------------------------------------------------------------------\u001b[0m",
            "\u001b[0;31mFileNotFoundError\u001b[0m                         Traceback (most recent call last)",
            "\u001b[0;32m<ipython-input-2-82e59805e485>\u001b[0m in \u001b[0;36m<module>\u001b[0;34m\u001b[0m\n\u001b[1;32m      3\u001b[0m \u001b[0;34m\u001b[0m\u001b[0m\n\u001b[1;32m      4\u001b[0m \u001b[0;34m\u001b[0m\u001b[0m\n\u001b[0;32m----> 5\u001b[0;31m \u001b[0mneuer_datensatz_golf\u001b[0m\u001b[0;34m=\u001b[0m\u001b[0mpd\u001b[0m\u001b[0;34m.\u001b[0m\u001b[0mread_csv\u001b[0m\u001b[0;34m(\u001b[0m\u001b[0;34m\"../../Datasets/golf.csv\"\u001b[0m\u001b[0;34m)\u001b[0m\u001b[0;34m\u001b[0m\u001b[0;34m\u001b[0m\u001b[0m\n\u001b[0m\u001b[1;32m      6\u001b[0m \u001b[0mneuer_datensatz_golf\u001b[0m\u001b[0;34m\u001b[0m\u001b[0;34m\u001b[0m\u001b[0m\n",
            "\u001b[0;32m/usr/local/lib/python3.8/dist-packages/pandas/util/_decorators.py\u001b[0m in \u001b[0;36mwrapper\u001b[0;34m(*args, **kwargs)\u001b[0m\n\u001b[1;32m    309\u001b[0m                     \u001b[0mstacklevel\u001b[0m\u001b[0;34m=\u001b[0m\u001b[0mstacklevel\u001b[0m\u001b[0;34m,\u001b[0m\u001b[0;34m\u001b[0m\u001b[0;34m\u001b[0m\u001b[0m\n\u001b[1;32m    310\u001b[0m                 )\n\u001b[0;32m--> 311\u001b[0;31m             \u001b[0;32mreturn\u001b[0m \u001b[0mfunc\u001b[0m\u001b[0;34m(\u001b[0m\u001b[0;34m*\u001b[0m\u001b[0margs\u001b[0m\u001b[0;34m,\u001b[0m \u001b[0;34m**\u001b[0m\u001b[0mkwargs\u001b[0m\u001b[0;34m)\u001b[0m\u001b[0;34m\u001b[0m\u001b[0;34m\u001b[0m\u001b[0m\n\u001b[0m\u001b[1;32m    312\u001b[0m \u001b[0;34m\u001b[0m\u001b[0m\n\u001b[1;32m    313\u001b[0m         \u001b[0;32mreturn\u001b[0m \u001b[0mwrapper\u001b[0m\u001b[0;34m\u001b[0m\u001b[0;34m\u001b[0m\u001b[0m\n",
            "\u001b[0;32m/usr/local/lib/python3.8/dist-packages/pandas/io/parsers/readers.py\u001b[0m in \u001b[0;36mread_csv\u001b[0;34m(filepath_or_buffer, sep, delimiter, header, names, index_col, usecols, squeeze, prefix, mangle_dupe_cols, dtype, engine, converters, true_values, false_values, skipinitialspace, skiprows, skipfooter, nrows, na_values, keep_default_na, na_filter, verbose, skip_blank_lines, parse_dates, infer_datetime_format, keep_date_col, date_parser, dayfirst, cache_dates, iterator, chunksize, compression, thousands, decimal, lineterminator, quotechar, quoting, doublequote, escapechar, comment, encoding, encoding_errors, dialect, error_bad_lines, warn_bad_lines, on_bad_lines, delim_whitespace, low_memory, memory_map, float_precision, storage_options)\u001b[0m\n\u001b[1;32m    584\u001b[0m     \u001b[0mkwds\u001b[0m\u001b[0;34m.\u001b[0m\u001b[0mupdate\u001b[0m\u001b[0;34m(\u001b[0m\u001b[0mkwds_defaults\u001b[0m\u001b[0;34m)\u001b[0m\u001b[0;34m\u001b[0m\u001b[0;34m\u001b[0m\u001b[0m\n\u001b[1;32m    585\u001b[0m \u001b[0;34m\u001b[0m\u001b[0m\n\u001b[0;32m--> 586\u001b[0;31m     \u001b[0;32mreturn\u001b[0m \u001b[0m_read\u001b[0m\u001b[0;34m(\u001b[0m\u001b[0mfilepath_or_buffer\u001b[0m\u001b[0;34m,\u001b[0m \u001b[0mkwds\u001b[0m\u001b[0;34m)\u001b[0m\u001b[0;34m\u001b[0m\u001b[0;34m\u001b[0m\u001b[0m\n\u001b[0m\u001b[1;32m    587\u001b[0m \u001b[0;34m\u001b[0m\u001b[0m\n\u001b[1;32m    588\u001b[0m \u001b[0;34m\u001b[0m\u001b[0m\n",
            "\u001b[0;32m/usr/local/lib/python3.8/dist-packages/pandas/io/parsers/readers.py\u001b[0m in \u001b[0;36m_read\u001b[0;34m(filepath_or_buffer, kwds)\u001b[0m\n\u001b[1;32m    480\u001b[0m \u001b[0;34m\u001b[0m\u001b[0m\n\u001b[1;32m    481\u001b[0m     \u001b[0;31m# Create the parser.\u001b[0m\u001b[0;34m\u001b[0m\u001b[0;34m\u001b[0m\u001b[0;34m\u001b[0m\u001b[0m\n\u001b[0;32m--> 482\u001b[0;31m     \u001b[0mparser\u001b[0m \u001b[0;34m=\u001b[0m \u001b[0mTextFileReader\u001b[0m\u001b[0;34m(\u001b[0m\u001b[0mfilepath_or_buffer\u001b[0m\u001b[0;34m,\u001b[0m \u001b[0;34m**\u001b[0m\u001b[0mkwds\u001b[0m\u001b[0;34m)\u001b[0m\u001b[0;34m\u001b[0m\u001b[0;34m\u001b[0m\u001b[0m\n\u001b[0m\u001b[1;32m    483\u001b[0m \u001b[0;34m\u001b[0m\u001b[0m\n\u001b[1;32m    484\u001b[0m     \u001b[0;32mif\u001b[0m \u001b[0mchunksize\u001b[0m \u001b[0;32mor\u001b[0m \u001b[0miterator\u001b[0m\u001b[0;34m:\u001b[0m\u001b[0;34m\u001b[0m\u001b[0;34m\u001b[0m\u001b[0m\n",
            "\u001b[0;32m/usr/local/lib/python3.8/dist-packages/pandas/io/parsers/readers.py\u001b[0m in \u001b[0;36m__init__\u001b[0;34m(self, f, engine, **kwds)\u001b[0m\n\u001b[1;32m    809\u001b[0m             \u001b[0mself\u001b[0m\u001b[0;34m.\u001b[0m\u001b[0moptions\u001b[0m\u001b[0;34m[\u001b[0m\u001b[0;34m\"has_index_names\"\u001b[0m\u001b[0;34m]\u001b[0m \u001b[0;34m=\u001b[0m \u001b[0mkwds\u001b[0m\u001b[0;34m[\u001b[0m\u001b[0;34m\"has_index_names\"\u001b[0m\u001b[0;34m]\u001b[0m\u001b[0;34m\u001b[0m\u001b[0;34m\u001b[0m\u001b[0m\n\u001b[1;32m    810\u001b[0m \u001b[0;34m\u001b[0m\u001b[0m\n\u001b[0;32m--> 811\u001b[0;31m         \u001b[0mself\u001b[0m\u001b[0;34m.\u001b[0m\u001b[0m_engine\u001b[0m \u001b[0;34m=\u001b[0m \u001b[0mself\u001b[0m\u001b[0;34m.\u001b[0m\u001b[0m_make_engine\u001b[0m\u001b[0;34m(\u001b[0m\u001b[0mself\u001b[0m\u001b[0;34m.\u001b[0m\u001b[0mengine\u001b[0m\u001b[0;34m)\u001b[0m\u001b[0;34m\u001b[0m\u001b[0;34m\u001b[0m\u001b[0m\n\u001b[0m\u001b[1;32m    812\u001b[0m \u001b[0;34m\u001b[0m\u001b[0m\n\u001b[1;32m    813\u001b[0m     \u001b[0;32mdef\u001b[0m \u001b[0mclose\u001b[0m\u001b[0;34m(\u001b[0m\u001b[0mself\u001b[0m\u001b[0;34m)\u001b[0m\u001b[0;34m:\u001b[0m\u001b[0;34m\u001b[0m\u001b[0;34m\u001b[0m\u001b[0m\n",
            "\u001b[0;32m/usr/local/lib/python3.8/dist-packages/pandas/io/parsers/readers.py\u001b[0m in \u001b[0;36m_make_engine\u001b[0;34m(self, engine)\u001b[0m\n\u001b[1;32m   1038\u001b[0m             )\n\u001b[1;32m   1039\u001b[0m         \u001b[0;31m# error: Too many arguments for \"ParserBase\"\u001b[0m\u001b[0;34m\u001b[0m\u001b[0;34m\u001b[0m\u001b[0;34m\u001b[0m\u001b[0m\n\u001b[0;32m-> 1040\u001b[0;31m         \u001b[0;32mreturn\u001b[0m \u001b[0mmapping\u001b[0m\u001b[0;34m[\u001b[0m\u001b[0mengine\u001b[0m\u001b[0;34m]\u001b[0m\u001b[0;34m(\u001b[0m\u001b[0mself\u001b[0m\u001b[0;34m.\u001b[0m\u001b[0mf\u001b[0m\u001b[0;34m,\u001b[0m \u001b[0;34m**\u001b[0m\u001b[0mself\u001b[0m\u001b[0;34m.\u001b[0m\u001b[0moptions\u001b[0m\u001b[0;34m)\u001b[0m  \u001b[0;31m# type: ignore[call-arg]\u001b[0m\u001b[0;34m\u001b[0m\u001b[0;34m\u001b[0m\u001b[0m\n\u001b[0m\u001b[1;32m   1041\u001b[0m \u001b[0;34m\u001b[0m\u001b[0m\n\u001b[1;32m   1042\u001b[0m     \u001b[0;32mdef\u001b[0m \u001b[0m_failover_to_python\u001b[0m\u001b[0;34m(\u001b[0m\u001b[0mself\u001b[0m\u001b[0;34m)\u001b[0m\u001b[0;34m:\u001b[0m\u001b[0;34m\u001b[0m\u001b[0;34m\u001b[0m\u001b[0m\n",
            "\u001b[0;32m/usr/local/lib/python3.8/dist-packages/pandas/io/parsers/c_parser_wrapper.py\u001b[0m in \u001b[0;36m__init__\u001b[0;34m(self, src, **kwds)\u001b[0m\n\u001b[1;32m     49\u001b[0m \u001b[0;34m\u001b[0m\u001b[0m\n\u001b[1;32m     50\u001b[0m         \u001b[0;31m# open handles\u001b[0m\u001b[0;34m\u001b[0m\u001b[0;34m\u001b[0m\u001b[0;34m\u001b[0m\u001b[0m\n\u001b[0;32m---> 51\u001b[0;31m         \u001b[0mself\u001b[0m\u001b[0;34m.\u001b[0m\u001b[0m_open_handles\u001b[0m\u001b[0;34m(\u001b[0m\u001b[0msrc\u001b[0m\u001b[0;34m,\u001b[0m \u001b[0mkwds\u001b[0m\u001b[0;34m)\u001b[0m\u001b[0;34m\u001b[0m\u001b[0;34m\u001b[0m\u001b[0m\n\u001b[0m\u001b[1;32m     52\u001b[0m         \u001b[0;32massert\u001b[0m \u001b[0mself\u001b[0m\u001b[0;34m.\u001b[0m\u001b[0mhandles\u001b[0m \u001b[0;32mis\u001b[0m \u001b[0;32mnot\u001b[0m \u001b[0;32mNone\u001b[0m\u001b[0;34m\u001b[0m\u001b[0;34m\u001b[0m\u001b[0m\n\u001b[1;32m     53\u001b[0m \u001b[0;34m\u001b[0m\u001b[0m\n",
            "\u001b[0;32m/usr/local/lib/python3.8/dist-packages/pandas/io/parsers/base_parser.py\u001b[0m in \u001b[0;36m_open_handles\u001b[0;34m(self, src, kwds)\u001b[0m\n\u001b[1;32m    220\u001b[0m         \u001b[0mLet\u001b[0m \u001b[0mthe\u001b[0m \u001b[0mreaders\u001b[0m \u001b[0mopen\u001b[0m \u001b[0mIOHandles\u001b[0m \u001b[0mafter\u001b[0m \u001b[0mthey\u001b[0m \u001b[0mare\u001b[0m \u001b[0mdone\u001b[0m \u001b[0;32mwith\u001b[0m \u001b[0mtheir\u001b[0m \u001b[0mpotential\u001b[0m \u001b[0mraises\u001b[0m\u001b[0;34m.\u001b[0m\u001b[0;34m\u001b[0m\u001b[0;34m\u001b[0m\u001b[0m\n\u001b[1;32m    221\u001b[0m         \"\"\"\n\u001b[0;32m--> 222\u001b[0;31m         self.handles = get_handle(\n\u001b[0m\u001b[1;32m    223\u001b[0m             \u001b[0msrc\u001b[0m\u001b[0;34m,\u001b[0m\u001b[0;34m\u001b[0m\u001b[0;34m\u001b[0m\u001b[0m\n\u001b[1;32m    224\u001b[0m             \u001b[0;34m\"r\"\u001b[0m\u001b[0;34m,\u001b[0m\u001b[0;34m\u001b[0m\u001b[0;34m\u001b[0m\u001b[0m\n",
            "\u001b[0;32m/usr/local/lib/python3.8/dist-packages/pandas/io/common.py\u001b[0m in \u001b[0;36mget_handle\u001b[0;34m(path_or_buf, mode, encoding, compression, memory_map, is_text, errors, storage_options)\u001b[0m\n\u001b[1;32m    700\u001b[0m         \u001b[0;32mif\u001b[0m \u001b[0mioargs\u001b[0m\u001b[0;34m.\u001b[0m\u001b[0mencoding\u001b[0m \u001b[0;32mand\u001b[0m \u001b[0;34m\"b\"\u001b[0m \u001b[0;32mnot\u001b[0m \u001b[0;32min\u001b[0m \u001b[0mioargs\u001b[0m\u001b[0;34m.\u001b[0m\u001b[0mmode\u001b[0m\u001b[0;34m:\u001b[0m\u001b[0;34m\u001b[0m\u001b[0;34m\u001b[0m\u001b[0m\n\u001b[1;32m    701\u001b[0m             \u001b[0;31m# Encoding\u001b[0m\u001b[0;34m\u001b[0m\u001b[0;34m\u001b[0m\u001b[0;34m\u001b[0m\u001b[0m\n\u001b[0;32m--> 702\u001b[0;31m             handle = open(\n\u001b[0m\u001b[1;32m    703\u001b[0m                 \u001b[0mhandle\u001b[0m\u001b[0;34m,\u001b[0m\u001b[0;34m\u001b[0m\u001b[0;34m\u001b[0m\u001b[0m\n\u001b[1;32m    704\u001b[0m                 \u001b[0mioargs\u001b[0m\u001b[0;34m.\u001b[0m\u001b[0mmode\u001b[0m\u001b[0;34m,\u001b[0m\u001b[0;34m\u001b[0m\u001b[0;34m\u001b[0m\u001b[0m\n",
            "\u001b[0;31mFileNotFoundError\u001b[0m: [Errno 2] No such file or directory: '../../Datasets/golf.csv'"
          ]
        }
      ]
    },
    {
      "cell_type": "code",
      "metadata": {
        "id": "_pdg06VhBO03",
        "outputId": "d1139774-ac2d-4945-c961-d4957b703838"
      },
      "source": [
        "#get the dataset\n",
        "dataset=pd.read_csv(\"../datasets/udemy_finance.csv\")\n",
        "dataset.head()"
      ],
      "execution_count": null,
      "outputs": [
        {
          "output_type": "execute_result",
          "data": {
            "text/html": [
              "<div>\n",
              "<style scoped>\n",
              "    .dataframe tbody tr th:only-of-type {\n",
              "        vertical-align: middle;\n",
              "    }\n",
              "\n",
              "    .dataframe tbody tr th {\n",
              "        vertical-align: top;\n",
              "    }\n",
              "\n",
              "    .dataframe thead th {\n",
              "        text-align: right;\n",
              "    }\n",
              "</style>\n",
              "<table border=\"1\" class=\"dataframe\">\n",
              "  <thead>\n",
              "    <tr style=\"text-align: right;\">\n",
              "      <th></th>\n",
              "      <th>id</th>\n",
              "      <th>title</th>\n",
              "      <th>url</th>\n",
              "      <th>is_paid</th>\n",
              "      <th>num_subscribers</th>\n",
              "      <th>avg_rating</th>\n",
              "      <th>avg_rating_recent</th>\n",
              "      <th>rating</th>\n",
              "      <th>num_reviews</th>\n",
              "      <th>is_wishlisted</th>\n",
              "      <th>num_published_lectures</th>\n",
              "      <th>num_published_practice_tests</th>\n",
              "      <th>created</th>\n",
              "      <th>published_time</th>\n",
              "      <th>discount_price__amount</th>\n",
              "      <th>discount_price__currency</th>\n",
              "      <th>discount_price__price_string</th>\n",
              "      <th>price_detail__amount</th>\n",
              "      <th>price_detail__currency</th>\n",
              "      <th>price_detail__price_string</th>\n",
              "    </tr>\n",
              "  </thead>\n",
              "  <tbody>\n",
              "    <tr>\n",
              "      <th>0</th>\n",
              "      <td>762616</td>\n",
              "      <td>The Complete SQL Bootcamp 2020: Go from Zero t...</td>\n",
              "      <td>/course/the-complete-sql-bootcamp/</td>\n",
              "      <td>True</td>\n",
              "      <td>295509</td>\n",
              "      <td>4.66019</td>\n",
              "      <td>4.67874</td>\n",
              "      <td>4.67874</td>\n",
              "      <td>78006</td>\n",
              "      <td>False</td>\n",
              "      <td>84</td>\n",
              "      <td>0</td>\n",
              "      <td>2016-02-14T22:57:48Z</td>\n",
              "      <td>2016-04-06T05:16:11Z</td>\n",
              "      <td>455.0</td>\n",
              "      <td>INR</td>\n",
              "      <td>₹455</td>\n",
              "      <td>8640.0</td>\n",
              "      <td>INR</td>\n",
              "      <td>₹8,640</td>\n",
              "    </tr>\n",
              "    <tr>\n",
              "      <th>1</th>\n",
              "      <td>937678</td>\n",
              "      <td>Tableau 2020 A-Z: Hands-On Tableau Training fo...</td>\n",
              "      <td>/course/tableau10/</td>\n",
              "      <td>True</td>\n",
              "      <td>209070</td>\n",
              "      <td>4.58956</td>\n",
              "      <td>4.60015</td>\n",
              "      <td>4.60015</td>\n",
              "      <td>54581</td>\n",
              "      <td>False</td>\n",
              "      <td>78</td>\n",
              "      <td>0</td>\n",
              "      <td>2016-08-22T12:10:18Z</td>\n",
              "      <td>2016-08-23T16:59:49Z</td>\n",
              "      <td>455.0</td>\n",
              "      <td>INR</td>\n",
              "      <td>₹455</td>\n",
              "      <td>8640.0</td>\n",
              "      <td>INR</td>\n",
              "      <td>₹8,640</td>\n",
              "    </tr>\n",
              "    <tr>\n",
              "      <th>2</th>\n",
              "      <td>1361790</td>\n",
              "      <td>PMP Exam Prep Seminar -  PMBOK Guide 6</td>\n",
              "      <td>/course/pmp-pmbok6-35-pdus/</td>\n",
              "      <td>True</td>\n",
              "      <td>155282</td>\n",
              "      <td>4.59491</td>\n",
              "      <td>4.59326</td>\n",
              "      <td>4.59326</td>\n",
              "      <td>52653</td>\n",
              "      <td>False</td>\n",
              "      <td>292</td>\n",
              "      <td>2</td>\n",
              "      <td>2017-09-26T16:32:48Z</td>\n",
              "      <td>2017-11-14T23:58:14Z</td>\n",
              "      <td>455.0</td>\n",
              "      <td>INR</td>\n",
              "      <td>₹455</td>\n",
              "      <td>8640.0</td>\n",
              "      <td>INR</td>\n",
              "      <td>₹8,640</td>\n",
              "    </tr>\n",
              "    <tr>\n",
              "      <th>3</th>\n",
              "      <td>648826</td>\n",
              "      <td>The Complete Financial Analyst Course 2020</td>\n",
              "      <td>/course/the-complete-financial-analyst-course/</td>\n",
              "      <td>True</td>\n",
              "      <td>245860</td>\n",
              "      <td>4.54407</td>\n",
              "      <td>4.53772</td>\n",
              "      <td>4.53772</td>\n",
              "      <td>46447</td>\n",
              "      <td>False</td>\n",
              "      <td>338</td>\n",
              "      <td>0</td>\n",
              "      <td>2015-10-23T13:34:35Z</td>\n",
              "      <td>2016-01-21T01:38:48Z</td>\n",
              "      <td>455.0</td>\n",
              "      <td>INR</td>\n",
              "      <td>₹455</td>\n",
              "      <td>8640.0</td>\n",
              "      <td>INR</td>\n",
              "      <td>₹8,640</td>\n",
              "    </tr>\n",
              "    <tr>\n",
              "      <th>4</th>\n",
              "      <td>637930</td>\n",
              "      <td>An Entire MBA in 1 Course:Award Winning Busine...</td>\n",
              "      <td>/course/an-entire-mba-in-1-courseaward-winning...</td>\n",
              "      <td>True</td>\n",
              "      <td>374836</td>\n",
              "      <td>4.47080</td>\n",
              "      <td>4.47173</td>\n",
              "      <td>4.47173</td>\n",
              "      <td>41630</td>\n",
              "      <td>False</td>\n",
              "      <td>83</td>\n",
              "      <td>0</td>\n",
              "      <td>2015-10-12T06:39:46Z</td>\n",
              "      <td>2016-01-11T21:39:33Z</td>\n",
              "      <td>455.0</td>\n",
              "      <td>INR</td>\n",
              "      <td>₹455</td>\n",
              "      <td>8640.0</td>\n",
              "      <td>INR</td>\n",
              "      <td>₹8,640</td>\n",
              "    </tr>\n",
              "  </tbody>\n",
              "</table>\n",
              "</div>"
            ],
            "text/plain": [
              "        id                                              title  \\\n",
              "0   762616  The Complete SQL Bootcamp 2020: Go from Zero t...   \n",
              "1   937678  Tableau 2020 A-Z: Hands-On Tableau Training fo...   \n",
              "2  1361790             PMP Exam Prep Seminar -  PMBOK Guide 6   \n",
              "3   648826         The Complete Financial Analyst Course 2020   \n",
              "4   637930  An Entire MBA in 1 Course:Award Winning Busine...   \n",
              "\n",
              "                                                 url  is_paid  \\\n",
              "0                 /course/the-complete-sql-bootcamp/     True   \n",
              "1                                 /course/tableau10/     True   \n",
              "2                        /course/pmp-pmbok6-35-pdus/     True   \n",
              "3     /course/the-complete-financial-analyst-course/     True   \n",
              "4  /course/an-entire-mba-in-1-courseaward-winning...     True   \n",
              "\n",
              "   num_subscribers  avg_rating  avg_rating_recent   rating  num_reviews  \\\n",
              "0           295509     4.66019            4.67874  4.67874        78006   \n",
              "1           209070     4.58956            4.60015  4.60015        54581   \n",
              "2           155282     4.59491            4.59326  4.59326        52653   \n",
              "3           245860     4.54407            4.53772  4.53772        46447   \n",
              "4           374836     4.47080            4.47173  4.47173        41630   \n",
              "\n",
              "   is_wishlisted  num_published_lectures  num_published_practice_tests  \\\n",
              "0          False                      84                             0   \n",
              "1          False                      78                             0   \n",
              "2          False                     292                             2   \n",
              "3          False                     338                             0   \n",
              "4          False                      83                             0   \n",
              "\n",
              "                created        published_time  discount_price__amount  \\\n",
              "0  2016-02-14T22:57:48Z  2016-04-06T05:16:11Z                   455.0   \n",
              "1  2016-08-22T12:10:18Z  2016-08-23T16:59:49Z                   455.0   \n",
              "2  2017-09-26T16:32:48Z  2017-11-14T23:58:14Z                   455.0   \n",
              "3  2015-10-23T13:34:35Z  2016-01-21T01:38:48Z                   455.0   \n",
              "4  2015-10-12T06:39:46Z  2016-01-11T21:39:33Z                   455.0   \n",
              "\n",
              "  discount_price__currency discount_price__price_string  price_detail__amount  \\\n",
              "0                      INR                         ₹455                8640.0   \n",
              "1                      INR                         ₹455                8640.0   \n",
              "2                      INR                         ₹455                8640.0   \n",
              "3                      INR                         ₹455                8640.0   \n",
              "4                      INR                         ₹455                8640.0   \n",
              "\n",
              "  price_detail__currency price_detail__price_string  \n",
              "0                    INR                     ₹8,640  \n",
              "1                    INR                     ₹8,640  \n",
              "2                    INR                     ₹8,640  \n",
              "3                    INR                     ₹8,640  \n",
              "4                    INR                     ₹8,640  "
            ]
          },
          "metadata": {
            "tags": []
          },
          "execution_count": 51
        }
      ]
    },
    {
      "cell_type": "code",
      "metadata": {
        "id": "NhwB3f5CBO04",
        "outputId": "7d3b2047-8b60-44b4-dc18-919218da8bc4"
      },
      "source": [
        "#get the dataset\n",
        "#Vorsicht! Achte auf die Trenner. Am Besten vorab in einem Text-Editor öffnen.\n",
        "#Sollte die csv-Datei ein ; statt einen , als Trenner haben, so sollte ein delimiter hinzugefügt werden\n",
        "#mehr dazu unter 3. Arbeiten mit Pandas\n",
        "dataset=pd.read_csv(\"../../Datasets/01.1_iris_full.csv\", delimiter=\",\")\n",
        "dataset.head()\n"
      ],
      "execution_count": null,
      "outputs": [
        {
          "output_type": "execute_result",
          "data": {
            "text/html": [
              "<div>\n",
              "<style scoped>\n",
              "    .dataframe tbody tr th:only-of-type {\n",
              "        vertical-align: middle;\n",
              "    }\n",
              "\n",
              "    .dataframe tbody tr th {\n",
              "        vertical-align: top;\n",
              "    }\n",
              "\n",
              "    .dataframe thead th {\n",
              "        text-align: right;\n",
              "    }\n",
              "</style>\n",
              "<table border=\"1\" class=\"dataframe\">\n",
              "  <thead>\n",
              "    <tr style=\"text-align: right;\">\n",
              "      <th></th>\n",
              "      <th>species</th>\n",
              "      <th>sepal length</th>\n",
              "      <th>sepal width</th>\n",
              "      <th>petal length</th>\n",
              "      <th>petal width</th>\n",
              "    </tr>\n",
              "  </thead>\n",
              "  <tbody>\n",
              "    <tr>\n",
              "      <th>0</th>\n",
              "      <td>Iris-setosa</td>\n",
              "      <td>5.1</td>\n",
              "      <td>3.5</td>\n",
              "      <td>1.4</td>\n",
              "      <td>0.2</td>\n",
              "    </tr>\n",
              "    <tr>\n",
              "      <th>1</th>\n",
              "      <td>Iris-setosa</td>\n",
              "      <td>4.9</td>\n",
              "      <td>3.0</td>\n",
              "      <td>1.4</td>\n",
              "      <td>0.2</td>\n",
              "    </tr>\n",
              "    <tr>\n",
              "      <th>2</th>\n",
              "      <td>Iris-setosa</td>\n",
              "      <td>4.7</td>\n",
              "      <td>3.2</td>\n",
              "      <td>1.3</td>\n",
              "      <td>0.2</td>\n",
              "    </tr>\n",
              "    <tr>\n",
              "      <th>3</th>\n",
              "      <td>Iris-setosa</td>\n",
              "      <td>4.6</td>\n",
              "      <td>3.1</td>\n",
              "      <td>1.5</td>\n",
              "      <td>0.2</td>\n",
              "    </tr>\n",
              "    <tr>\n",
              "      <th>4</th>\n",
              "      <td>Iris-setosa</td>\n",
              "      <td>5.0</td>\n",
              "      <td>3.6</td>\n",
              "      <td>1.4</td>\n",
              "      <td>0.2</td>\n",
              "    </tr>\n",
              "  </tbody>\n",
              "</table>\n",
              "</div>"
            ],
            "text/plain": [
              "       species  sepal length  sepal width  petal length  petal width\n",
              "0  Iris-setosa           5.1          3.5           1.4          0.2\n",
              "1  Iris-setosa           4.9          3.0           1.4          0.2\n",
              "2  Iris-setosa           4.7          3.2           1.3          0.2\n",
              "3  Iris-setosa           4.6          3.1           1.5          0.2\n",
              "4  Iris-setosa           5.0          3.6           1.4          0.2"
            ]
          },
          "metadata": {
            "tags": []
          },
          "execution_count": 52
        }
      ]
    },
    {
      "cell_type": "code",
      "metadata": {
        "scrolled": true,
        "id": "_hzfAQiABO04",
        "outputId": "da14d1c5-48ae-467d-996c-60f7bb9a4ddf"
      },
      "source": [
        "#get the dataset\n",
        "dataset=pd.read_csv(\"https://raw.githubusercontent.com/CSSEGISandData/COVID-19/master/csse_covid_19_data/csse_covid_19_time_series/time_series_covid19_confirmed_global.csv\")\n",
        "dataset.head()"
      ],
      "execution_count": null,
      "outputs": [
        {
          "output_type": "execute_result",
          "data": {
            "text/html": [
              "<div>\n",
              "<style scoped>\n",
              "    .dataframe tbody tr th:only-of-type {\n",
              "        vertical-align: middle;\n",
              "    }\n",
              "\n",
              "    .dataframe tbody tr th {\n",
              "        vertical-align: top;\n",
              "    }\n",
              "\n",
              "    .dataframe thead th {\n",
              "        text-align: right;\n",
              "    }\n",
              "</style>\n",
              "<table border=\"1\" class=\"dataframe\">\n",
              "  <thead>\n",
              "    <tr style=\"text-align: right;\">\n",
              "      <th></th>\n",
              "      <th>Province/State</th>\n",
              "      <th>Country/Region</th>\n",
              "      <th>Lat</th>\n",
              "      <th>Long</th>\n",
              "      <th>1/22/20</th>\n",
              "      <th>1/23/20</th>\n",
              "      <th>1/24/20</th>\n",
              "      <th>1/25/20</th>\n",
              "      <th>1/26/20</th>\n",
              "      <th>1/27/20</th>\n",
              "      <th>...</th>\n",
              "      <th>5/1/21</th>\n",
              "      <th>5/2/21</th>\n",
              "      <th>5/3/21</th>\n",
              "      <th>5/4/21</th>\n",
              "      <th>5/5/21</th>\n",
              "      <th>5/6/21</th>\n",
              "      <th>5/7/21</th>\n",
              "      <th>5/8/21</th>\n",
              "      <th>5/9/21</th>\n",
              "      <th>5/10/21</th>\n",
              "    </tr>\n",
              "  </thead>\n",
              "  <tbody>\n",
              "    <tr>\n",
              "      <th>0</th>\n",
              "      <td>NaN</td>\n",
              "      <td>Afghanistan</td>\n",
              "      <td>33.93911</td>\n",
              "      <td>67.709953</td>\n",
              "      <td>0</td>\n",
              "      <td>0</td>\n",
              "      <td>0</td>\n",
              "      <td>0</td>\n",
              "      <td>0</td>\n",
              "      <td>0</td>\n",
              "      <td>...</td>\n",
              "      <td>59939</td>\n",
              "      <td>60122</td>\n",
              "      <td>60300</td>\n",
              "      <td>60563</td>\n",
              "      <td>60797</td>\n",
              "      <td>61162</td>\n",
              "      <td>61455</td>\n",
              "      <td>61755</td>\n",
              "      <td>61842</td>\n",
              "      <td>62063</td>\n",
              "    </tr>\n",
              "    <tr>\n",
              "      <th>1</th>\n",
              "      <td>NaN</td>\n",
              "      <td>Albania</td>\n",
              "      <td>41.15330</td>\n",
              "      <td>20.168300</td>\n",
              "      <td>0</td>\n",
              "      <td>0</td>\n",
              "      <td>0</td>\n",
              "      <td>0</td>\n",
              "      <td>0</td>\n",
              "      <td>0</td>\n",
              "      <td>...</td>\n",
              "      <td>131185</td>\n",
              "      <td>131238</td>\n",
              "      <td>131276</td>\n",
              "      <td>131327</td>\n",
              "      <td>131419</td>\n",
              "      <td>131510</td>\n",
              "      <td>131577</td>\n",
              "      <td>131666</td>\n",
              "      <td>131723</td>\n",
              "      <td>131753</td>\n",
              "    </tr>\n",
              "    <tr>\n",
              "      <th>2</th>\n",
              "      <td>NaN</td>\n",
              "      <td>Algeria</td>\n",
              "      <td>28.03390</td>\n",
              "      <td>1.659600</td>\n",
              "      <td>0</td>\n",
              "      <td>0</td>\n",
              "      <td>0</td>\n",
              "      <td>0</td>\n",
              "      <td>0</td>\n",
              "      <td>0</td>\n",
              "      <td>...</td>\n",
              "      <td>122311</td>\n",
              "      <td>122522</td>\n",
              "      <td>122717</td>\n",
              "      <td>122999</td>\n",
              "      <td>123272</td>\n",
              "      <td>123473</td>\n",
              "      <td>123692</td>\n",
              "      <td>123900</td>\n",
              "      <td>124104</td>\n",
              "      <td>124288</td>\n",
              "    </tr>\n",
              "    <tr>\n",
              "      <th>3</th>\n",
              "      <td>NaN</td>\n",
              "      <td>Andorra</td>\n",
              "      <td>42.50630</td>\n",
              "      <td>1.521800</td>\n",
              "      <td>0</td>\n",
              "      <td>0</td>\n",
              "      <td>0</td>\n",
              "      <td>0</td>\n",
              "      <td>0</td>\n",
              "      <td>0</td>\n",
              "      <td>...</td>\n",
              "      <td>13232</td>\n",
              "      <td>13282</td>\n",
              "      <td>13295</td>\n",
              "      <td>13316</td>\n",
              "      <td>13340</td>\n",
              "      <td>13363</td>\n",
              "      <td>13390</td>\n",
              "      <td>13406</td>\n",
              "      <td>13423</td>\n",
              "      <td>13429</td>\n",
              "    </tr>\n",
              "    <tr>\n",
              "      <th>4</th>\n",
              "      <td>NaN</td>\n",
              "      <td>Angola</td>\n",
              "      <td>-11.20270</td>\n",
              "      <td>17.873900</td>\n",
              "      <td>0</td>\n",
              "      <td>0</td>\n",
              "      <td>0</td>\n",
              "      <td>0</td>\n",
              "      <td>0</td>\n",
              "      <td>0</td>\n",
              "      <td>...</td>\n",
              "      <td>26815</td>\n",
              "      <td>26993</td>\n",
              "      <td>27133</td>\n",
              "      <td>27284</td>\n",
              "      <td>27529</td>\n",
              "      <td>27921</td>\n",
              "      <td>28201</td>\n",
              "      <td>28477</td>\n",
              "      <td>28740</td>\n",
              "      <td>28875</td>\n",
              "    </tr>\n",
              "  </tbody>\n",
              "</table>\n",
              "<p>5 rows × 479 columns</p>\n",
              "</div>"
            ],
            "text/plain": [
              "  Province/State Country/Region       Lat       Long  1/22/20  1/23/20  \\\n",
              "0            NaN    Afghanistan  33.93911  67.709953        0        0   \n",
              "1            NaN        Albania  41.15330  20.168300        0        0   \n",
              "2            NaN        Algeria  28.03390   1.659600        0        0   \n",
              "3            NaN        Andorra  42.50630   1.521800        0        0   \n",
              "4            NaN         Angola -11.20270  17.873900        0        0   \n",
              "\n",
              "   1/24/20  1/25/20  1/26/20  1/27/20  ...  5/1/21  5/2/21  5/3/21  5/4/21  \\\n",
              "0        0        0        0        0  ...   59939   60122   60300   60563   \n",
              "1        0        0        0        0  ...  131185  131238  131276  131327   \n",
              "2        0        0        0        0  ...  122311  122522  122717  122999   \n",
              "3        0        0        0        0  ...   13232   13282   13295   13316   \n",
              "4        0        0        0        0  ...   26815   26993   27133   27284   \n",
              "\n",
              "   5/5/21  5/6/21  5/7/21  5/8/21  5/9/21  5/10/21  \n",
              "0   60797   61162   61455   61755   61842    62063  \n",
              "1  131419  131510  131577  131666  131723   131753  \n",
              "2  123272  123473  123692  123900  124104   124288  \n",
              "3   13340   13363   13390   13406   13423    13429  \n",
              "4   27529   27921   28201   28477   28740    28875  \n",
              "\n",
              "[5 rows x 479 columns]"
            ]
          },
          "metadata": {
            "tags": []
          },
          "execution_count": 53
        }
      ]
    },
    {
      "cell_type": "code",
      "metadata": {
        "id": "jPRAAlgpBO05",
        "outputId": "16ec22b9-33e4-4da8-a328-df3569181d97"
      },
      "source": [
        "dataset.to_csv(r'../../Datasets/00_PandasExport.csv', index = False)"
      ],
      "execution_count": null,
      "outputs": [
        {
          "output_type": "error",
          "ename": "NameError",
          "evalue": "name 'dataset' is not defined",
          "traceback": [
            "\u001b[1;31m---------------------------------------------------------------------------\u001b[0m",
            "\u001b[1;31mNameError\u001b[0m                                 Traceback (most recent call last)",
            "\u001b[1;32m<ipython-input-1-93adc77ba49c>\u001b[0m in \u001b[0;36m<module>\u001b[1;34m\u001b[0m\n\u001b[1;32m----> 1\u001b[1;33m \u001b[0mdataset\u001b[0m\u001b[1;33m.\u001b[0m\u001b[0mto_csv\u001b[0m\u001b[1;33m(\u001b[0m\u001b[1;34mr'../../Datasets/00_PandasExport.csv'\u001b[0m\u001b[1;33m,\u001b[0m \u001b[0mindex\u001b[0m \u001b[1;33m=\u001b[0m \u001b[1;32mFalse\u001b[0m\u001b[1;33m)\u001b[0m\u001b[1;33m\u001b[0m\u001b[1;33m\u001b[0m\u001b[0m\n\u001b[0m",
            "\u001b[1;31mNameError\u001b[0m: name 'dataset' is not defined"
          ]
        }
      ]
    },
    {
      "cell_type": "code",
      "metadata": {
        "id": "gFT71e22BO05",
        "outputId": "ead1e9a2-b489-47b6-99ea-0d19a3304f46",
        "colab": {
          "referenced_widgets": [
            "77f796d227064aff9b8c2930adb2ccc3"
          ]
        }
      },
      "source": [
        "#Datensätze können auch per Widget geladen werden. Dies wird z.B. wie folgt umgesetzt.\n",
        "#Um ein Upload-Widget zu nutzen, muss jedoch zuvor folgendes aktiviert werden. Gehe dazu in das Command Prompt und gebe folgendes ein: jupyter labextension install @jupyter-widgets/jupyterlab-manager\n",
        "import ipywidgets as widgets\n",
        "\n",
        "widgets.FileUpload(\n",
        "    accept='',  # Accepted file extension e.g. '.txt', '.pdf', 'image/*', 'image/*,.pdf'\n",
        "    multiple=False  # True to accept multiple files upload else False\n",
        ")"
      ],
      "execution_count": null,
      "outputs": [
        {
          "output_type": "display_data",
          "data": {
            "application/vnd.jupyter.widget-view+json": {
              "model_id": "77f796d227064aff9b8c2930adb2ccc3",
              "version_major": 2,
              "version_minor": 0
            },
            "text/plain": [
              "FileUpload(value={}, description='Upload')"
            ]
          },
          "metadata": {
            "tags": []
          }
        }
      ]
    },
    {
      "cell_type": "code",
      "metadata": {
        "id": "26MgRyMmBO06",
        "outputId": "a88a28ad-5f29-4bae-b61d-0e4f324e04d8",
        "colab": {
          "referenced_widgets": [
            "c5191e04fe994c5499df5ab566cf5916"
          ]
        }
      },
      "source": [
        "uploader = widgets.FileUpload()\n",
        "display(uploader)\n",
        "\n",
        "# upload something...\n",
        "\n",
        "# once a file is uploaded, use the `.value` attribute to retrieve the content:\n",
        "uploader.value\n",
        "#=> (\n",
        "#=>   {\n",
        "#=>     'name': 'example.txt',\n",
        "#=>     'type': 'text/plain',\n",
        "#=>     'size': 36,\n",
        "#=>     'last_modified': datetime.datetime(2020, 1, 9, 15, 58, 43, 321000, tzinfo=datetime.timezone.utc),\n",
        "#=>     'content': <memory at 0x10c1b37c8>\n",
        "#=>   },\n",
        "#=> )"
      ],
      "execution_count": null,
      "outputs": [
        {
          "output_type": "display_data",
          "data": {
            "application/vnd.jupyter.widget-view+json": {
              "model_id": "c5191e04fe994c5499df5ab566cf5916",
              "version_major": 2,
              "version_minor": 0
            },
            "text/plain": [
              "FileUpload(value={}, description='Upload')"
            ]
          },
          "metadata": {
            "tags": []
          }
        },
        {
          "output_type": "execute_result",
          "data": {
            "text/plain": [
              "{}"
            ]
          },
          "metadata": {
            "tags": []
          },
          "execution_count": 5
        }
      ]
    }
  ]
}